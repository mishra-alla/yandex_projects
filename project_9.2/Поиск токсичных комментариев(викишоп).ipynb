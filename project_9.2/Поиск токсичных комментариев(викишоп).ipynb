{
  "cells": [
    {
      "cell_type": "markdown",
      "metadata": {
        "toc": true,
        "id": "ncptqESUEmaQ"
      },
      "source": [
        "<h1>Содержание<span class=\"tocSkip\"></span></h1>\n",
        "<div class=\"toc\"><ul class=\"toc-item\"><li><span><a href=\"#Подготовка\" data-toc-modified-id=\"Подготовка-1\"><span class=\"toc-item-num\">1&nbsp;&nbsp;</span>Подготовка</a></span><ul class=\"toc-item\"><li><span><a href=\"#Вывод:\" data-toc-modified-id=\"Вывод:-1.1\"><span class=\"toc-item-num\">1.1&nbsp;&nbsp;</span><strong>Вывод:</strong></a></span></li></ul></li><li><span><a href=\"#Обучение\" data-toc-modified-id=\"Обучение-2\"><span class=\"toc-item-num\">2&nbsp;&nbsp;</span><strong>Обучение</strong></a></span><ul class=\"toc-item\"><li><span><a href=\"#2.1.-TF-IDF\" data-toc-modified-id=\"2.1.-TF-IDF-2.1\"><span class=\"toc-item-num\">2.1&nbsp;&nbsp;</span><strong>2.1. TF-IDF</strong></a></span></li><li><span><a href=\"#Вывод:\" data-toc-modified-id=\"Вывод:-2.2\"><span class=\"toc-item-num\">2.2&nbsp;&nbsp;</span><strong>Вывод:</strong></a></span></li><li><span><a href=\"#Непосредственно-обучение:\" data-toc-modified-id=\"Непосредственно-обучение:-2.3\"><span class=\"toc-item-num\">2.3&nbsp;&nbsp;</span><strong>Непосредственно обучение:</strong></a></span></li><li><span><a href=\"#Протестируем-лучшую-модель:\" data-toc-modified-id=\"Протестируем-лучшую-модель:-2.4\"><span class=\"toc-item-num\">2.4&nbsp;&nbsp;</span><strong>Протестируем лучшую модель:</strong></a></span></li><li><span><a href=\"#2.2-Обучение-на-BERT\" data-toc-modified-id=\"2.2-Обучение-на-BERT-2.5\"><span class=\"toc-item-num\">2.5&nbsp;&nbsp;</span><strong>2.2 Обучение на BERT</strong></a></span></li></ul></li><li><span><a href=\"#Выводы\" data-toc-modified-id=\"Выводы-3\"><span class=\"toc-item-num\">3&nbsp;&nbsp;</span>Выводы</a></span></li><li><span><a href=\"#Чек-лист-проверки\" data-toc-modified-id=\"Чек-лист-проверки-4\"><span class=\"toc-item-num\">4&nbsp;&nbsp;</span>Чек-лист проверки</a></span></li></ul></div>"
      ]
    },
    {
      "cell_type": "markdown",
      "metadata": {
        "id": "Lrqi-FVD7W2F"
      },
      "source": [
        "# Проект для «Викишоп»"
      ]
    },
    {
      "cell_type": "markdown",
      "metadata": {
        "id": "2gybjA8E7W2F"
      },
      "source": [
        "Интернет-магазин «Викишоп» запускает новый сервис. Теперь пользователи могут редактировать и дополнять описания товаров, как в вики-сообществах. То есть клиенты предлагают свои правки и комментируют изменения других. Магазину нужен инструмент, который будет искать токсичные комментарии и отправлять их на модерацию.\n",
        "\n",
        "Обучите модель классифицировать комментарии на позитивные и негативные. В вашем распоряжении набор данных с разметкой о токсичности правок.\n",
        "\n",
        "Постройте модель со значением метрики качества *F1* не меньше 0.75.\n",
        "\n",
        "**Инструкция по выполнению проекта**\n",
        "\n",
        "1. Загрузите и подготовьте данные.\n",
        "2. Обучите разные модели.\n",
        "3. Сделайте выводы.\n",
        "\n",
        "Для выполнения проекта применять *BERT* необязательно, но вы можете попробовать.\n",
        "\n",
        "**Описание данных**\n",
        "\n",
        "Данные находятся в файле `toxic_comments.csv`.\n",
        "- Столбец *text* в нём содержит текст комментария,\n",
        "- *toxic* — целевой признак.\n",
        "\n",
        "Комментарии:\n",
        "- Работу выполняю в **google colab**\n",
        "- использую **BERT**"
      ]
    },
    {
      "cell_type": "markdown",
      "metadata": {
        "id": "4N2cwO3F7W2G"
      },
      "source": [
        "## Подготовка"
      ]
    },
    {
      "cell_type": "code",
      "execution_count": null,
      "metadata": {
        "id": "eFjnVJB47W2G"
      },
      "outputs": [],
      "source": [
        "#Установка библиотеки transformers и др.для  GC\n",
        "import sys\n",
        "ENV_COLAB = 'google.colab' in sys.modules\n",
        "\n",
        "if ENV_COLAB:\n",
        "    !pip install catboost\n",
        "    !pip install pytorch-transformers\n",
        "    #!pip install transformers\n",
        "    !pip install pytorch-pretrained-bert\n",
        "    import transformers as ppb\n",
        "    #gpu_info = !nvidia-smi\n",
        "    #gpu_info = '\\n'.join(gpu_info)\n",
        "    #if gpu_info.find('failed') >= 0:\n",
        "    #    print('Select the Runtime > \"Change runtime type\" menu to enable a GPU accelerator, ')\n",
        "    #    print('and then re-execute this cell.')\n",
        "    #else:\n",
        "    #    print(gpu_info)\n",
        "\n",
        "    print('Environment: Google Colab')"
      ]
    },
    {
      "cell_type": "code",
      "execution_count": null,
      "metadata": {
        "id": "qQbtHR1UAAGM"
      },
      "outputs": [],
      "source": [
        "import pandas as pd\n",
        "import numpy as np\n",
        "from sklearn.metrics import make_scorer,r2_score,f1_score, accuracy_score, recall_score\n",
        "from sklearn.model_selection import train_test_split, GridSearchCV, cross_val_score\n",
        "from sklearn.preprocessing import OrdinalEncoder, StandardScaler\n",
        "from sklearn.base import BaseEstimator, TransformerMixin\n",
        "from sklearn.pipeline import Pipeline\n",
        "from numpy.random import RandomState\n",
        "from sklearn.utils import shuffle\n",
        "\n",
        "from sklearn.ensemble import RandomForestClassifier\n",
        "from sklearn.linear_model import LogisticRegression, SGDClassifier, LinearRegression\n",
        "from sklearn.tree import DecisionTreeClassifier\n",
        "from catboost import CatBoostClassifier\n",
        "import time\n",
        "\n",
        "import torch\n",
        "from torch.utils.data import TensorDataset, DataLoader, RandomSampler, SequentialSampler\n",
        "#from pytorch_transformers import BertTokenizer, BertConfig,AdamW, BertForSequenceClassification\n",
        "\n",
        "from tqdm import notebook, tqdm, trange\n",
        "import re\n",
        "import nltk\n",
        "nltk.download('wordnet','stopwords','punkt','averaged_perceptron_tagger')\n",
        "from nltk.corpus import stopwords, wordnet\n",
        "from nltk.stem import WordNetLemmatizer\n",
        "from sklearn.feature_extraction.text import TfidfVectorizer,CountVectorizer\n",
        "#import lightgbm\n",
        "#from gensim.models import Word2Vec\n",
        "#from keras.preprocessing.sequence import pad_sequences\n",
        "\n",
        "from IPython.display import clear_output\n",
        "import io\n",
        "\n",
        "import seaborn as sns\n",
        "import matplotlib.pyplot as plt\n",
        "from joblib import dump\n",
        "import warnings\n",
        "warnings.filterwarnings('ignore')"
      ]
    },
    {
      "cell_type": "code",
      "execution_count": null,
      "metadata": {
        "id": "qg1Ev4qtIsSY"
      },
      "outputs": [],
      "source": [
        "try:\n",
        "    data = pd.read_csv('https://code.s3.yandex.net/datasets/toxic_comments.csv', sep=',', index_col=[0])\n",
        "    #data=pd.read_csv('/content/toxic_comments.csv', sep=',', index_col=[0])\n",
        "except:\n",
        "    data=pd.read_csv('/datasets/toxic_comments.csv', sep=',', index_col=[0])\n",
        "data.sort_index(inplace=True)\n",
        "# Приведем все даенные в читаемый формат\n",
        "pd.options.display.float_format = '{:,.2f}'.format"
      ]
    },
    {
      "cell_type": "code",
      "execution_count": null,
      "metadata": {
        "id": "kuGwHezYJajr"
      },
      "outputs": [],
      "source": [
        "#напишем функцию для исследования данных\n",
        "def research(data, name, name_column, silent):\n",
        "    print(f'Размер данных:      {data.shape}')\n",
        "    print(f'Количество явных дубликатов: {data.duplicated().sum()}')\n",
        "    if not silent:\n",
        "        print(f'Наличие пропусков:           {data.isna().sum().sum()}')\n",
        "        print('\\nПропущенные данные (в процентном соотношении):')\n",
        "        print(round(data.isna().mean()*100).sort_values(ascending=False).head(13))\n",
        "    print(f'\\nПроверка структуры {name}:')\n",
        "    print()\n",
        "    data.info()\n",
        "    print('\\nСоотношение в целевом признаке:')\n",
        "    print(data.toxic.value_counts()/data.shape[0]*100)\n",
        "\n",
        "    if not silent:\n",
        "        #print(f'\\nПроверка на выбросы данных {name}:')\n",
        "        data[{name_column}].value_counts().plot.bar(legend=False,figsize=(5,3))\n",
        "        #data.hist(linewidth=2,  figsize=(6, 4))#histtype='step',\n",
        "        plt.xlabel(f'Целевой признак - отзывы', fontsize=10)\n",
        "        plt.ylabel(f'Количество отзывов', fontsize=10)\n",
        "        plt.title(f'Проверка дисбаланса', fontsize=12)\n",
        "        plt.show()\n",
        "\n",
        "    display(data.sample(5))\n",
        "    if not silent:\n",
        "        display(data.describe())"
      ]
    },
    {
      "cell_type": "code",
      "execution_count": null,
      "metadata": {
        "colab": {
          "base_uri": "https://localhost:8080/",
          "height": 1000
        },
        "id": "U8uYqMTRMOBZ",
        "outputId": "d33e9b7f-3136-45ac-847c-972ccd98f43a"
      },
      "outputs": [
        {
          "name": "stdout",
          "output_type": "stream",
          "text": [
            "Размер данных:      (159292, 2)\n",
            "Количество явных дубликатов: 0\n",
            "Наличие пропусков:           0\n",
            "\n",
            "Пропущенные данные (в процентном соотношении):\n",
            "text    0.00\n",
            "toxic   0.00\n",
            "dtype: float64\n",
            "\n",
            "Проверка структуры исходных данных:\n",
            "\n",
            "<class 'pandas.core.frame.DataFrame'>\n",
            "Int64Index: 159292 entries, 0 to 159450\n",
            "Data columns (total 2 columns):\n",
            " #   Column  Non-Null Count   Dtype \n",
            "---  ------  --------------   ----- \n",
            " 0   text    159292 non-null  object\n",
            " 1   toxic   159292 non-null  int64 \n",
            "dtypes: int64(1), object(1)\n",
            "memory usage: 3.6+ MB\n",
            "\n",
            "Соотношение в целевом признаке:\n",
            "0   89.84\n",
            "1   10.16\n",
            "Name: toxic, dtype: float64\n"
          ]
        },
        {
          "data": {
            "image/png": "[encoded data removed]",
            "text/plain": [
              "<Figure size 360x216 with 1 Axes>"
            ]
          },
          "metadata": {
            "needs_background": "light"
          },
          "output_type": "display_data"
        },
        {
          "data": {
            "text/html": [
              "<div>\n",
              "<style scoped>\n",
              "    .dataframe tbody tr th:only-of-type {\n",
              "        vertical-align: middle;\n",
              "    }\n",
              "\n",
              "    .dataframe tbody tr th {\n",
              "        vertical-align: top;\n",
              "    }\n",
              "\n",
              "    .dataframe thead th {\n",
              "        text-align: right;\n",
              "    }\n",
              "</style>\n",
              "<table border=\"1\" class=\"dataframe\">\n",
              "  <thead>\n",
              "    <tr style=\"text-align: right;\">\n",
              "      <th></th>\n",
              "      <th>text</th>\n",
              "      <th>toxic</th>\n",
              "    </tr>\n",
              "  </thead>\n",
              "  <tbody>\n",
              "    <tr>\n",
              "      <th>1321</th>\n",
              "      <td>\"\\n\\nWhat \"\"links/content\"\" on what page?\\n \"</td>\n",
              "      <td>0</td>\n",
              "    </tr>\n",
              "    <tr>\n",
              "      <th>121222</th>\n",
              "      <td>Avoiding edit warring \\n\\nSonicyouth86, we app...</td>\n",
              "      <td>0</td>\n",
              "    </tr>\n",
              "    <tr>\n",
              "      <th>87734</th>\n",
              "      <td>Comment. The proposed text is preferable to th...</td>\n",
              "      <td>0</td>\n",
              "    </tr>\n",
              "    <tr>\n",
              "      <th>71033</th>\n",
              "      <td>British Empire Map=\\n\\nThe map is good, Howeve...</td>\n",
              "      <td>0</td>\n",
              "    </tr>\n",
              "    <tr>\n",
              "      <th>129348</th>\n",
              "      <td>OK, will do.  Thanks for unprotecting it.  I w...</td>\n",
              "      <td>0</td>\n",
              "    </tr>\n",
              "  </tbody>\n",
              "</table>\n",
              "</div>"
            ],
            "text/plain": [
              "                                                     text  toxic\n",
              "1321        \"\\n\\nWhat \"\"links/content\"\" on what page?\\n \"      0\n",
              "121222  Avoiding edit warring \\n\\nSonicyouth86, we app...      0\n",
              "87734   Comment. The proposed text is preferable to th...      0\n",
              "71033   British Empire Map=\\n\\nThe map is good, Howeve...      0\n",
              "129348  OK, will do.  Thanks for unprotecting it.  I w...      0"
            ]
          },
          "metadata": {},
          "output_type": "display_data"
        },
        {
          "data": {
            "text/html": [
              "<div>\n",
              "<style scoped>\n",
              "    .dataframe tbody tr th:only-of-type {\n",
              "        vertical-align: middle;\n",
              "    }\n",
              "\n",
              "    .dataframe tbody tr th {\n",
              "        vertical-align: top;\n",
              "    }\n",
              "\n",
              "    .dataframe thead th {\n",
              "        text-align: right;\n",
              "    }\n",
              "</style>\n",
              "<table border=\"1\" class=\"dataframe\">\n",
              "  <thead>\n",
              "    <tr style=\"text-align: right;\">\n",
              "      <th></th>\n",
              "      <th>toxic</th>\n",
              "    </tr>\n",
              "  </thead>\n",
              "  <tbody>\n",
              "    <tr>\n",
              "      <th>count</th>\n",
              "      <td>159,292.00</td>\n",
              "    </tr>\n",
              "    <tr>\n",
              "      <th>mean</th>\n",
              "      <td>0.10</td>\n",
              "    </tr>\n",
              "    <tr>\n",
              "      <th>std</th>\n",
              "      <td>0.30</td>\n",
              "    </tr>\n",
              "    <tr>\n",
              "      <th>min</th>\n",
              "      <td>0.00</td>\n",
              "    </tr>\n",
              "    <tr>\n",
              "      <th>25%</th>\n",
              "      <td>0.00</td>\n",
              "    </tr>\n",
              "    <tr>\n",
              "      <th>50%</th>\n",
              "      <td>0.00</td>\n",
              "    </tr>\n",
              "    <tr>\n",
              "      <th>75%</th>\n",
              "      <td>0.00</td>\n",
              "    </tr>\n",
              "    <tr>\n",
              "      <th>max</th>\n",
              "      <td>1.00</td>\n",
              "    </tr>\n",
              "  </tbody>\n",
              "</table>\n",
              "</div>"
            ],
            "text/plain": [
              "           toxic\n",
              "count 159,292.00\n",
              "mean        0.10\n",
              "std         0.30\n",
              "min         0.00\n",
              "25%         0.00\n",
              "50%         0.00\n",
              "75%         0.00\n",
              "max         1.00"
            ]
          },
          "metadata": {},
          "output_type": "display_data"
        }
      ],
      "source": [
        "research(data, 'исходных данных', 'toxic', silent=False)"
      ]
    },
    {
      "cell_type": "code",
      "execution_count": null,
      "metadata": {
        "id": "mdcgku1HRTbQ"
      },
      "outputs": [],
      "source": [
        "data['text'] = data['text'].values #.astype('U')\n",
        "data['text'] = data['text'].str.lower()\n",
        "#data.sample(5)"
      ]
    },
    {
      "cell_type": "code",
      "execution_count": null,
      "metadata": {
        "colab": {
          "base_uri": "https://localhost:8080/",
          "height": 557
        },
        "id": "VKDsixAtSEuq",
        "outputId": "57bee4c6-db6d-487e-e22f-a4a9ecd5b9f6"
      },
      "outputs": [
        {
          "name": "stdout",
          "output_type": "stream",
          "text": [
            "Размер данных:      (159292, 2)\n",
            "Количество явных дубликатов: 45\n",
            "\n",
            "Проверка структуры исходных данных:\n",
            "\n",
            "<class 'pandas.core.frame.DataFrame'>\n",
            "Int64Index: 159292 entries, 0 to 159450\n",
            "Data columns (total 2 columns):\n",
            " #   Column  Non-Null Count   Dtype \n",
            "---  ------  --------------   ----- \n",
            " 0   text    159292 non-null  object\n",
            " 1   toxic   159292 non-null  int64 \n",
            "dtypes: int64(1), object(1)\n",
            "memory usage: 3.6+ MB\n",
            "\n",
            "Соотношение в целевом признаке:\n",
            "0   89.84\n",
            "1   10.16\n",
            "Name: toxic, dtype: float64\n"
          ]
        },
        {
          "data": {
            "text/html": [
              "<div>\n",
              "<style scoped>\n",
              "    .dataframe tbody tr th:only-of-type {\n",
              "        vertical-align: middle;\n",
              "    }\n",
              "\n",
              "    .dataframe tbody tr th {\n",
              "        vertical-align: top;\n",
              "    }\n",
              "\n",
              "    .dataframe thead th {\n",
              "        text-align: right;\n",
              "    }\n",
              "</style>\n",
              "<table border=\"1\" class=\"dataframe\">\n",
              "  <thead>\n",
              "    <tr style=\"text-align: right;\">\n",
              "      <th></th>\n",
              "      <th>text</th>\n",
              "      <th>toxic</th>\n",
              "    </tr>\n",
              "  </thead>\n",
              "  <tbody>\n",
              "    <tr>\n",
              "      <th>92222</th>\n",
              "      <td>al-rahma tv is a notable egyptian television s...</td>\n",
              "      <td>0</td>\n",
              "    </tr>\n",
              "    <tr>\n",
              "      <th>23788</th>\n",
              "      <td>em, from the looks of it, you're not being ver...</td>\n",
              "      <td>0</td>\n",
              "    </tr>\n",
              "    <tr>\n",
              "      <th>45995</th>\n",
              "      <td>removal of external links per wp:el\\nper wp:el...</td>\n",
              "      <td>0</td>\n",
              "    </tr>\n",
              "    <tr>\n",
              "      <th>119867</th>\n",
              "      <td>. perhaps the childish feminists of wikipedia,...</td>\n",
              "      <td>0</td>\n",
              "    </tr>\n",
              "    <tr>\n",
              "      <th>67580</th>\n",
              "      <td>your edit to the dark crusade section of the d...</td>\n",
              "      <td>0</td>\n",
              "    </tr>\n",
              "  </tbody>\n",
              "</table>\n",
              "</div>"
            ],
            "text/plain": [
              "                                                     text  toxic\n",
              "92222   al-rahma tv is a notable egyptian television s...      0\n",
              "23788   em, from the looks of it, you're not being ver...      0\n",
              "45995   removal of external links per wp:el\\nper wp:el...      0\n",
              "119867  . perhaps the childish feminists of wikipedia,...      0\n",
              "67580   your edit to the dark crusade section of the d...      0"
            ]
          },
          "metadata": {},
          "output_type": "display_data"
        }
      ],
      "source": [
        "research(data, 'исходных данных', 'toxic', silent=True)"
      ]
    },
    {
      "cell_type": "code",
      "execution_count": null,
      "metadata": {
        "id": "RY3ZDl8GUh5G"
      },
      "outputs": [],
      "source": [
        "#удалим явные дубликаты:\n",
        "data = data.drop_duplicates()"
      ]
    },
    {
      "cell_type": "code",
      "execution_count": null,
      "metadata": {
        "colab": {
          "base_uri": "https://localhost:8080/",
          "height": 557
        },
        "id": "ThzFmfrNVEKY",
        "outputId": "ca36593d-3180-443d-8957-a7e0d526754b"
      },
      "outputs": [
        {
          "name": "stdout",
          "output_type": "stream",
          "text": [
            "Размер данных:      (159247, 2)\n",
            "Количество явных дубликатов: 0\n",
            "\n",
            "Проверка структуры исходных данных:\n",
            "\n",
            "<class 'pandas.core.frame.DataFrame'>\n",
            "Int64Index: 159247 entries, 0 to 159450\n",
            "Data columns (total 2 columns):\n",
            " #   Column  Non-Null Count   Dtype \n",
            "---  ------  --------------   ----- \n",
            " 0   text    159247 non-null  object\n",
            " 1   toxic   159247 non-null  int64 \n",
            "dtypes: int64(1), object(1)\n",
            "memory usage: 3.6+ MB\n",
            "\n",
            "Соотношение в целевом признаке:\n",
            "0   89.85\n",
            "1   10.15\n",
            "Name: toxic, dtype: float64\n"
          ]
        },
        {
          "data": {
            "text/html": [
              "<div>\n",
              "<style scoped>\n",
              "    .dataframe tbody tr th:only-of-type {\n",
              "        vertical-align: middle;\n",
              "    }\n",
              "\n",
              "    .dataframe tbody tr th {\n",
              "        vertical-align: top;\n",
              "    }\n",
              "\n",
              "    .dataframe thead th {\n",
              "        text-align: right;\n",
              "    }\n",
              "</style>\n",
              "<table border=\"1\" class=\"dataframe\">\n",
              "  <thead>\n",
              "    <tr style=\"text-align: right;\">\n",
              "      <th></th>\n",
              "      <th>text</th>\n",
              "      <th>toxic</th>\n",
              "    </tr>\n",
              "  </thead>\n",
              "  <tbody>\n",
              "    <tr>\n",
              "      <th>35588</th>\n",
              "      <td>i advise bad editor, canvasser and sockpuppet ...</td>\n",
              "      <td>0</td>\n",
              "    </tr>\n",
              "    <tr>\n",
              "      <th>18982</th>\n",
              "      <td>john, you did not cite what is acceptable, onl...</td>\n",
              "      <td>0</td>\n",
              "    </tr>\n",
              "    <tr>\n",
              "      <th>102877</th>\n",
              "      <td>this is not your average not-many-people-know-...</td>\n",
              "      <td>0</td>\n",
              "    </tr>\n",
              "    <tr>\n",
              "      <th>20621</th>\n",
              "      <td>\"\\n\\nrelease history\\nregiondateformatunited s...</td>\n",
              "      <td>0</td>\n",
              "    </tr>\n",
              "    <tr>\n",
              "      <th>58342</th>\n",
              "      <td>you are a pompous fool.</td>\n",
              "      <td>1</td>\n",
              "    </tr>\n",
              "  </tbody>\n",
              "</table>\n",
              "</div>"
            ],
            "text/plain": [
              "                                                     text  toxic\n",
              "35588   i advise bad editor, canvasser and sockpuppet ...      0\n",
              "18982   john, you did not cite what is acceptable, onl...      0\n",
              "102877  this is not your average not-many-people-know-...      0\n",
              "20621   \"\\n\\nrelease history\\nregiondateformatunited s...      0\n",
              "58342                             you are a pompous fool.      1"
            ]
          },
          "metadata": {},
          "output_type": "display_data"
        }
      ],
      "source": [
        "research(data, 'исходных данных', 'toxic', silent=True)"
      ]
    },
    {
      "cell_type": "markdown",
      "metadata": {
        "id": "cLwOKPeGqZx1"
      },
      "source": [
        "Обрезаем случайным образом данные . Сохраняю новые данные в:\n",
        "- corpus для модели TF-IDF - до 80000 строк\n",
        "- corpus_bert для BERT - до 1000 строк"
      ]
    },
    {
      "cell_type": "code",
      "execution_count": null,
      "metadata": {
        "colab": {
          "base_uri": "https://localhost:8080/"
        },
        "id": "tkSQduohrAUd",
        "outputId": "b9d6c2ac-932a-4f18-85eb-91a2e74bf3b3"
      },
      "outputs": [
        {
          "name": "stdout",
          "output_type": "stream",
          "text": [
            "(80000, 2)\n",
            "(1000, 2)\n"
          ]
        }
      ],
      "source": [
        "data_size = 80000\n",
        "data_size_bert = 1000\n",
        "corpus = data.sample(data_size).reset_index(drop=True)\n",
        "corpus_bert = data.sample(data_size_bert).reset_index(drop=True)\n",
        "#ind_data_size = random.sample(list(data.index), data_size)\n",
        "#corpus = data[data.index.isin(ind_data_size)].reset_index(drop=True)\n",
        "print(corpus.shape)\n",
        "print(corpus_bert.shape)"
      ]
    },
    {
      "cell_type": "code",
      "execution_count": null,
      "metadata": {
        "id": "p4ZH48X2unUs"
      },
      "outputs": [],
      "source": [
        "# Инициализирую Wordnet Lemmatizer\n",
        "lemmatizer = WordNetLemmatizer()"
      ]
    },
    {
      "cell_type": "code",
      "execution_count": null,
      "metadata": {
        "id": "VHIVvR7xuZ1Z"
      },
      "outputs": [],
      "source": [
        "#Создаю функцию РОS-тэгирования слов:\n",
        "def get_wordnet_pos(word):\n",
        "    tag = nltk.pos_tag([word])[0][1][0].upper()\n",
        "    tag_dict = {\"J\": wordnet.ADJ,               #прилагательное\n",
        "                \"N\": wordnet.NOUN,              #существительное\n",
        "                \"V\": wordnet.VERB,              #глагол\n",
        "                \"R\": wordnet.ADV                #наречие\n",
        "               }\n",
        "    return tag_dict.get(tag, wordnet.NOUN)\n",
        "\n",
        "\n",
        "#выполним функцию токенизациии и лемматизации массива текстов с учетом РОS-тэгирования и удаления слов:\n",
        "def lemma_text(corpus):\n",
        "    corpus = [lemmatizer.lemmatize(w, get_wordnet_pos(w)) for w in nltk.word_tokenize(corpus) if not w in stopwords.words('english')]\n",
        "    return ' '.join(corpus)\n",
        "\n",
        "#def lemma_text(corpus):\n",
        "#  corpus_new = []\n",
        "#  for row in corpus:\n",
        "#    corpus_new.append(' '.join([lemmatizer.lemmatize(w) for w in nltk.word_tokenize(row) if not w in stopwords.words('english')]))\n",
        "#  return corpus_new\n",
        "#corpus['clean_lemma_text'] = lemma_text(corpus['text'])"
      ]
    },
    {
      "cell_type": "code",
      "execution_count": null,
      "metadata": {
        "id": "FCdwY8005Tdl"
      },
      "outputs": [],
      "source": [
        "# функция очищения текста\n",
        "def clear_text(text):\n",
        "    clear_text = re.sub(r'[^a-zA-Z]', ' ', text)\n",
        "    clear_text= \" \".join(clear_text.split())\n",
        "    return clear_text"
      ]
    },
    {
      "cell_type": "code",
      "execution_count": null,
      "metadata": {
        "colab": {
          "base_uri": "https://localhost:8080/",
          "height": 557
        },
        "id": "7CrX_z6iDSgv",
        "outputId": "8bc45b6e-56e1-43f0-ac55-3f4cd4008b5b",
        "scrolled": true
      },
      "outputs": [
        {
          "name": "stdout",
          "output_type": "stream",
          "text": [
            "Размер данных:      (80000, 2)\n",
            "Количество явных дубликатов: 0\n",
            "\n",
            "Проверка структуры рабочей части данных:\n",
            "\n",
            "<class 'pandas.core.frame.DataFrame'>\n",
            "RangeIndex: 80000 entries, 0 to 79999\n",
            "Data columns (total 2 columns):\n",
            " #   Column  Non-Null Count  Dtype \n",
            "---  ------  --------------  ----- \n",
            " 0   text    80000 non-null  object\n",
            " 1   toxic   80000 non-null  int64 \n",
            "dtypes: int64(1), object(1)\n",
            "memory usage: 1.2+ MB\n",
            "\n",
            "Соотношение в целевом признаке:\n",
            "0   89.78\n",
            "1   10.21\n",
            "Name: toxic, dtype: float64\n"
          ]
        },
        {
          "data": {
            "text/html": [
              "<div>\n",
              "<style scoped>\n",
              "    .dataframe tbody tr th:only-of-type {\n",
              "        vertical-align: middle;\n",
              "    }\n",
              "\n",
              "    .dataframe tbody tr th {\n",
              "        vertical-align: top;\n",
              "    }\n",
              "\n",
              "    .dataframe thead th {\n",
              "        text-align: right;\n",
              "    }\n",
              "</style>\n",
              "<table border=\"1\" class=\"dataframe\">\n",
              "  <thead>\n",
              "    <tr style=\"text-align: right;\">\n",
              "      <th></th>\n",
              "      <th>text</th>\n",
              "      <th>toxic</th>\n",
              "    </tr>\n",
              "  </thead>\n",
              "  <tbody>\n",
              "    <tr>\n",
              "      <th>75920</th>\n",
              "      <td>i would much rather we were honest about thing...</td>\n",
              "      <td>0</td>\n",
              "    </tr>\n",
              "    <tr>\n",
              "      <th>6920</th>\n",
              "      <td>\"do not copy text from the bbc into wikipedia....</td>\n",
              "      <td>0</td>\n",
              "    </tr>\n",
              "    <tr>\n",
              "      <th>74192</th>\n",
              "      <td>michael kimmel is also frequently cited, but h...</td>\n",
              "      <td>0</td>\n",
              "    </tr>\n",
              "    <tr>\n",
              "      <th>59168</th>\n",
              "      <td>your ga review \\ni saw that you passed lord of...</td>\n",
              "      <td>0</td>\n",
              "    </tr>\n",
              "    <tr>\n",
              "      <th>8660</th>\n",
              "      <td>fuck your face \\n\\ny\\n\\n76.67.105.188</td>\n",
              "      <td>1</td>\n",
              "    </tr>\n",
              "  </tbody>\n",
              "</table>\n",
              "</div>"
            ],
            "text/plain": [
              "                                                    text  toxic\n",
              "75920  i would much rather we were honest about thing...      0\n",
              "6920   \"do not copy text from the bbc into wikipedia....      0\n",
              "74192  michael kimmel is also frequently cited, but h...      0\n",
              "59168  your ga review \\ni saw that you passed lord of...      0\n",
              "8660               fuck your face \\n\\ny\\n\\n76.67.105.188      1"
            ]
          },
          "metadata": {},
          "output_type": "display_data"
        }
      ],
      "source": [
        "research(corpus, 'рабочей части данных', 'toxic', silent=True)"
      ]
    },
    {
      "cell_type": "code",
      "execution_count": null,
      "metadata": {
        "colab": {
          "base_uri": "https://localhost:8080/"
        },
        "id": "G8F-TBM33JPN",
        "outputId": "2c105546-5c6b-4ef6-8ede-9cf7d723200b"
      },
      "outputs": [
        {
          "name": "stderr",
          "output_type": "stream",
          "text": [
            "[nltk_data] Downloading package stopwords to /home/jovyan/nltk_data...\n",
            "[nltk_data]   Package stopwords is already up-to-date!\n",
            "[nltk_data] Downloading package punkt to /home/jovyan/nltk_data...\n",
            "[nltk_data]   Package punkt is already up-to-date!\n",
            "[nltk_data] Downloading package wordnet to /home/jovyan/nltk_data...\n",
            "[nltk_data]   Package wordnet is already up-to-date!\n",
            "[nltk_data] Downloading package averaged_perceptron_tagger to\n",
            "[nltk_data]     /home/jovyan/nltk_data...\n",
            "[nltk_data]   Package averaged_perceptron_tagger is already up-to-\n",
            "[nltk_data]       date!\n",
            "100%|██████████| 80000/80000 [25:03<00:00, 53.21it/s] "
          ]
        },
        {
          "name": "stdout",
          "output_type": "stream",
          "text": [
            "CPU times: user 21min 47s, sys: 2min 43s, total: 24min 30s\n",
            "Wall time: 25min 3s\n"
          ]
        },
        {
          "name": "stderr",
          "output_type": "stream",
          "text": [
            "\n"
          ]
        }
      ],
      "source": [
        "%%time\n",
        "#леммализирую тексты постов:\n",
        "nltk.download('stopwords')\n",
        "#stopwords.words('english')[:3]\n",
        "nltk.download('punkt')\n",
        "nltk.download('wordnet')\n",
        "nltk.download('averaged_perceptron_tagger')\n",
        "tqdm.pandas()\n",
        "corpus['text'] = corpus['text'].progress_apply(lemma_text)\n",
        "#corpus['text'] = corpus['text'].apply(lemma_text)\n",
        "#stopwords=list(set(stopwords.words('english')))\n",
        "#corpus['text'] = lemma_text(clear_text(corpus['text']))"
      ]
    },
    {
      "cell_type": "code",
      "execution_count": null,
      "metadata": {
        "colab": {
          "base_uri": "https://localhost:8080/",
          "height": 206
        },
        "id": "D7C0eccl91TK",
        "outputId": "e64f493d-3931-4b68-d900-4a58c194f7cd"
      },
      "outputs": [
        {
          "data": {
            "text/html": [
              "<div>\n",
              "<style scoped>\n",
              "    .dataframe tbody tr th:only-of-type {\n",
              "        vertical-align: middle;\n",
              "    }\n",
              "\n",
              "    .dataframe tbody tr th {\n",
              "        vertical-align: top;\n",
              "    }\n",
              "\n",
              "    .dataframe thead th {\n",
              "        text-align: right;\n",
              "    }\n",
              "</style>\n",
              "<table border=\"1\" class=\"dataframe\">\n",
              "  <thead>\n",
              "    <tr style=\"text-align: right;\">\n",
              "      <th></th>\n",
              "      <th>text</th>\n",
              "      <th>toxic</th>\n",
              "    </tr>\n",
              "  </thead>\n",
              "  <tbody>\n",
              "    <tr>\n",
              "      <th>70154</th>\n",
              "      <td>click gizmo huggle bless heart encounter error...</td>\n",
              "      <td>0</td>\n",
              "    </tr>\n",
              "    <tr>\n",
              "      <th>26737</th>\n",
              "      <td>fact find bit clunky</td>\n",
              "      <td>0</td>\n",
              "    </tr>\n",
              "    <tr>\n",
              "      <th>21684</th>\n",
              "      <td>globalise narcissism interest mind totally ope...</td>\n",
              "      <td>0</td>\n",
              "    </tr>\n",
              "    <tr>\n",
              "      <th>20944</th>\n",
              "      <td>luka magnotta sha n t revert article n t want ...</td>\n",
              "      <td>0</td>\n",
              "    </tr>\n",
              "    <tr>\n",
              "      <th>41566</th>\n",
              "      <td>appropriate word non native speaker english so...</td>\n",
              "      <td>0</td>\n",
              "    </tr>\n",
              "  </tbody>\n",
              "</table>\n",
              "</div>"
            ],
            "text/plain": [
              "                                                    text  toxic\n",
              "70154  click gizmo huggle bless heart encounter error...      0\n",
              "26737                               fact find bit clunky      0\n",
              "21684  globalise narcissism interest mind totally ope...      0\n",
              "20944  luka magnotta sha n t revert article n t want ...      0\n",
              "41566  appropriate word non native speaker english so...      0"
            ]
          },
          "execution_count": 18,
          "metadata": {},
          "output_type": "execute_result"
        }
      ],
      "source": [
        "# очистим текст\n",
        "corpus['text'] = corpus['text'].apply(clear_text)\n",
        "corpus.sample(5)"
      ]
    },
    {
      "cell_type": "markdown",
      "metadata": {
        "id": "KiKo2LhCnlPE"
      },
      "source": [
        "### **Вывод:**\n",
        "\n",
        "1. Загрузила данные:\n",
        "- пропусков не обнаружено;\n",
        "- явные дубликаты обрнаружены после того, как привела тексты к нижнему регистру;\n",
        "- Соотношение в целевом признаке: 9/1 - явный дисбаланс, надо будет сбаллансировать\n",
        "2. Обработала данные:\n",
        "- привела все к нижнему регистру;\n",
        "- удалила явные дубликаты\n",
        "- работа выполняется в колабе - для дальнейшей возможности обработки данных. построения модели обрежем данные до 25000 случайным образом\n",
        "- лематизировала и отчистила тексты."
      ]
    },
    {
      "cell_type": "markdown",
      "metadata": {
        "id": "AHvVwlRE7W2H"
      },
      "source": [
        "## **Обучение**"
      ]
    },
    {
      "cell_type": "code",
      "execution_count": null,
      "metadata": {
        "colab": {
          "base_uri": "https://localhost:8080/"
        },
        "id": "HQpZD7HA7W2H",
        "outputId": "6ae2d917-14ed-4862-87c8-05bf2ef7c5ce"
      },
      "outputs": [
        {
          "name": "stdout",
          "output_type": "stream",
          "text": [
            "(72000, 1)\n",
            "(72000,)\n",
            "(8000, 1)\n",
            "(8000,)\n"
          ]
        }
      ],
      "source": [
        "#Разделяю выборки в соотношении 90/10, стратифицирую их:\n",
        "features = corpus.drop(['toxic'], axis=1)\n",
        "target = corpus.toxic\n",
        "\n",
        "features_train, features_test, target_train, target_test = train_test_split(features, target, test_size=.1,\n",
        "                                                                              random_state=12345, stratify = target)\n",
        "\n",
        "#размеры выборок:\n",
        "for i in [features_train, target_train, features_test, target_test]:\n",
        "    print(i.shape)\n",
        "stopwords=list(set(stopwords.words('english')))"
      ]
    },
    {
      "cell_type": "code",
      "execution_count": null,
      "metadata": {
        "id": "WqxKIHhREmaX"
      },
      "outputs": [],
      "source": [
        "#Возможно воспользуюсь невекторизованными данными в pipeline\n",
        "features_train1=features_train.copy\n",
        "features_test1=features_test.copy"
      ]
    },
    {
      "cell_type": "markdown",
      "metadata": {
        "id": "WHCmkCwynbV9"
      },
      "source": [
        "### **2.1. TF-IDF**\n",
        "- выполним векторизацию слов методом **TfidfVectorize**.\n",
        "- Методом `fit` настриваем модель, `transform` выполняеем вектризацию."
      ]
    },
    {
      "cell_type": "code",
      "execution_count": null,
      "metadata": {
        "id": "oCKaNvQZVA-F"
      },
      "outputs": [],
      "source": [
        "#stopwords=list(set(stopwords.words('english')))\n",
        "count_tf_idf = TfidfVectorizer(stop_words=stopwords)\n",
        "features_train = count_tf_idf.fit_transform(features_train['text']) #.values.astype('U')\n",
        "#features_valid = count_tf_idf.transform(features_valid['text'])\n",
        "features_test = count_tf_idf.transform(features_test['text'])\n",
        "cv_counts = 5"
      ]
    },
    {
      "cell_type": "markdown",
      "metadata": {
        "id": "ETtwBT_EeAjh"
      },
      "source": [
        "**Ресемплирование данных**\n",
        "уменьшаю кол-во 0 в выборках train:"
      ]
    },
    {
      "cell_type": "code",
      "execution_count": null,
      "metadata": {
        "colab": {
          "base_uri": "https://localhost:8080/",
          "height": 335
        },
        "id": "S9GZXv34gxZz",
        "outputId": "9b0f3def-e3b3-417a-9ddf-82e27ffcfe9d"
      },
      "outputs": [
        {
          "name": "stdout",
          "output_type": "stream",
          "text": [
            "Соотношение 1/0 в тренировочной выборке:\n",
            "0   0.50\n",
            "1   0.50\n",
            "Name: toxic, dtype: float64\n",
            "\n",
            "(14710, 2)\n",
            "(14710,)\n"
          ]
        },
        {
          "data": {
            "text/html": [
              "<div>\n",
              "<style scoped>\n",
              "    .dataframe tbody tr th:only-of-type {\n",
              "        vertical-align: middle;\n",
              "    }\n",
              "\n",
              "    .dataframe tbody tr th {\n",
              "        vertical-align: top;\n",
              "    }\n",
              "\n",
              "    .dataframe thead th {\n",
              "        text-align: right;\n",
              "    }\n",
              "</style>\n",
              "<table border=\"1\" class=\"dataframe\">\n",
              "  <thead>\n",
              "    <tr style=\"text-align: right;\">\n",
              "      <th></th>\n",
              "      <th>text</th>\n",
              "      <th>toxic</th>\n",
              "    </tr>\n",
              "  </thead>\n",
              "  <tbody>\n",
              "    <tr>\n",
              "      <th>27873</th>\n",
              "      <td>would somebody get clown remove block particip...</td>\n",
              "      <td>0</td>\n",
              "    </tr>\n",
              "    <tr>\n",
              "      <th>21233</th>\n",
              "      <td>anybody watch dbz know never do</td>\n",
              "      <td>0</td>\n",
              "    </tr>\n",
              "    <tr>\n",
              "      <th>18587</th>\n",
              "      <td>ever reply post wall</td>\n",
              "      <td>0</td>\n",
              "    </tr>\n",
              "    <tr>\n",
              "      <th>55652</th>\n",
              "      <td>dp fuck hell think make line every football pa...</td>\n",
              "      <td>1</td>\n",
              "    </tr>\n",
              "    <tr>\n",
              "      <th>14510</th>\n",
              "      <td>knowin dah dork</td>\n",
              "      <td>0</td>\n",
              "    </tr>\n",
              "  </tbody>\n",
              "</table>\n",
              "</div>"
            ],
            "text/plain": [
              "                                                    text  toxic\n",
              "27873  would somebody get clown remove block particip...      0\n",
              "21233                    anybody watch dbz know never do      0\n",
              "18587                               ever reply post wall      0\n",
              "55652  dp fuck hell think make line every football pa...      1\n",
              "14510                                    knowin dah dork      0"
            ]
          },
          "execution_count": 22,
          "metadata": {},
          "output_type": "execute_result"
        }
      ],
      "source": [
        "#уменьшаю кол-во 0 в выборках train:\n",
        "corpus_train = corpus.iloc[target_train.index]\n",
        "target_train_0 = corpus_train[corpus_train['toxic'] == 0]['toxic']\n",
        "target_train_1 = corpus_train[corpus_train['toxic'] == 1]['toxic']\n",
        "\n",
        "target_train_0_resample = target_train_0.sample(target_train_1.shape[0], random_state=12345)\n",
        "target_train_resample = pd.concat([target_train_0_resample, target_train_1])\n",
        "\n",
        "features_train_resample = corpus.iloc[target_train_resample.index]\n",
        "\n",
        "\n",
        "features_train_resample, target_train_resample = shuffle(features_train_resample,\n",
        "                                                         target_train_resample,\n",
        "                                                         random_state=12345)\n",
        "\n",
        "#features_train_resample = features_train_resample.text\n",
        "\n",
        "print('Соотношение 1/0 в тренировочной выборке:')\n",
        "print(target_train_resample.value_counts(normalize=True))\n",
        "print()\n",
        "print(features_train_resample.shape)\n",
        "print(target_train_resample.shape)\n",
        "features_train_resample.head()"
      ]
    },
    {
      "cell_type": "markdown",
      "metadata": {
        "id": "fDCrEGS_WXI1"
      },
      "source": [
        "Проведем крос-валидацию на логистической регрессии"
      ]
    },
    {
      "cell_type": "code",
      "execution_count": null,
      "metadata": {
        "id": "UzLYyiy-egHG"
      },
      "outputs": [],
      "source": [
        "def cross_val_model(model, features, target, name_model):#silent\n",
        "    #if silent:\n",
        "    #    features_train_resample = count_tf_idf.transform(features['text'])\n",
        "    model = model\n",
        "    f1_result = cross_val_score(model, features, target,\n",
        "                           cv=cv_counts, scoring='f1').mean()\n",
        "\n",
        "    print(f'На {name_model} F1 =', f1_result)\n",
        "    return f1_result"
      ]
    },
    {
      "cell_type": "code",
      "execution_count": null,
      "metadata": {
        "id": "6pVpPcwtwnqT"
      },
      "outputs": [],
      "source": [
        "def cross_val_model_res(model, features, target, name_model, silent):#\n",
        "    if not silent:\n",
        "        features = count_tf_idf.transform(features['text'])\n",
        "    model = model\n",
        "    f1_result = cross_val_score(model, features, target,\n",
        "                           cv=cv_counts, scoring='f1').mean()\n",
        "    print(f'На {name_model} F1 =', f1_result)\n",
        "    return f1_result"
      ]
    },
    {
      "cell_type": "code",
      "execution_count": null,
      "metadata": {
        "colab": {
          "base_uri": "https://localhost:8080/"
        },
        "id": "pZeGl1d0jKPK",
        "outputId": "56848be3-9acc-4074-f00e-cc4ae223ded3",
        "scrolled": true
      },
      "outputs": [
        {
          "name": "stdout",
          "output_type": "stream",
          "text": [
            "CPU times: user 2 µs, sys: 0 ns, total: 2 µs\n",
            "Wall time: 6.2 µs\n",
            "На LogisticRegression F1 = 0.6838005191688864\n"
          ]
        }
      ],
      "source": [
        "%%time\n",
        "start = time.time()\n",
        "f1_train_lr = cross_val_model(LogisticRegression(), features_train, target_train,\\\n",
        "                              'LogisticRegression') #, silent=False\n",
        "\n",
        "\n",
        "end = time.time()\n",
        "t_lr_cv1=round(end-start,2)"
      ]
    },
    {
      "cell_type": "code",
      "execution_count": null,
      "metadata": {
        "colab": {
          "base_uri": "https://localhost:8080/"
        },
        "id": "YVd9cFzruAPY",
        "outputId": "26668f26-ac02-433a-b1fa-b12c986352ea"
      },
      "outputs": [
        {
          "name": "stdout",
          "output_type": "stream",
          "text": [
            "CPU times: user 3 µs, sys: 0 ns, total: 3 µs\n",
            "Wall time: 5.72 µs\n",
            "На LogisticRegression с сбалансированными данными F1 = 0.7392033634585687\n"
          ]
        }
      ],
      "source": [
        "%%time\n",
        "#на LR сбаллансированных данных тренировочной выборки\n",
        "start = time.time()\n",
        "f1_train_bal_lr = cross_val_model(LogisticRegression(class_weight='balanced'), features_train, target_train, \\\n",
        "                                  'LogisticRegression с сбалансированными данными')\n",
        "\n",
        "\n",
        "end = time.time()\n",
        "t_lr_bal_cv1=round(end-start,2)"
      ]
    },
    {
      "cell_type": "code",
      "execution_count": null,
      "metadata": {
        "colab": {
          "base_uri": "https://localhost:8080/",
          "height": 49
        },
        "id": "f1HjI0c_xZ-H",
        "outputId": "482eca43-34ce-4c14-e7e7-aedafb906207"
      },
      "outputs": [
        {
          "data": {
            "text/html": [
              "<div>\n",
              "<style scoped>\n",
              "    .dataframe tbody tr th:only-of-type {\n",
              "        vertical-align: middle;\n",
              "    }\n",
              "\n",
              "    .dataframe tbody tr th {\n",
              "        vertical-align: top;\n",
              "    }\n",
              "\n",
              "    .dataframe thead th {\n",
              "        text-align: right;\n",
              "    }\n",
              "</style>\n",
              "<table border=\"1\" class=\"dataframe\">\n",
              "  <thead>\n",
              "    <tr style=\"text-align: right;\">\n",
              "      <th></th>\n",
              "      <th>F1_predict</th>\n",
              "      <th>Time_fit,сек</th>\n",
              "    </tr>\n",
              "  </thead>\n",
              "  <tbody>\n",
              "  </tbody>\n",
              "</table>\n",
              "</div>"
            ],
            "text/plain": [
              "Empty DataFrame\n",
              "Columns: [F1_predict, Time_fit,сек]\n",
              "Index: []"
            ]
          },
          "execution_count": 28,
          "metadata": {},
          "output_type": "execute_result"
        }
      ],
      "source": [
        "def result_write(model_name,f1,time_fit):  #t,f1_p,\n",
        "#функция добавляет значения метрики f1 и время настройки модели\n",
        "\n",
        "  result_corpus.loc[model_name,'F1_predict'] = f1\n",
        "  result_corpus.loc[model_name,'Time_fit,сек'] = time_fit\n",
        "  return result_corpus\n",
        "\n",
        "result_corpus = pd.DataFrame(columns=['F1_predict','Time_fit,сек'])\n",
        "result_corpus"
      ]
    },
    {
      "cell_type": "code",
      "execution_count": null,
      "metadata": {
        "colab": {
          "base_uri": "https://localhost:8080/",
          "height": 143
        },
        "id": "uh9GXp2W-Yjd",
        "outputId": "827574f6-0d4c-4f05-d2c7-dc55b37b4547"
      },
      "outputs": [
        {
          "data": {
            "text/html": [
              "<div>\n",
              "<style scoped>\n",
              "    .dataframe tbody tr th:only-of-type {\n",
              "        vertical-align: middle;\n",
              "    }\n",
              "\n",
              "    .dataframe tbody tr th {\n",
              "        vertical-align: top;\n",
              "    }\n",
              "\n",
              "    .dataframe thead th {\n",
              "        text-align: right;\n",
              "    }\n",
              "</style>\n",
              "<table border=\"1\" class=\"dataframe\">\n",
              "  <thead>\n",
              "    <tr style=\"text-align: right;\">\n",
              "      <th></th>\n",
              "      <th>F1_predict</th>\n",
              "      <th>Time_fit,сек</th>\n",
              "    </tr>\n",
              "  </thead>\n",
              "  <tbody>\n",
              "    <tr>\n",
              "      <th>LogisticRegression</th>\n",
              "      <td>0.68</td>\n",
              "      <td>191.85</td>\n",
              "    </tr>\n",
              "    <tr>\n",
              "      <th>LogisticRegression_balansed</th>\n",
              "      <td>0.74</td>\n",
              "      <td>127.07</td>\n",
              "    </tr>\n",
              "  </tbody>\n",
              "</table>\n",
              "</div>"
            ],
            "text/plain": [
              "                            F1_predict Time_fit,сек\n",
              "LogisticRegression                0.68       191.85\n",
              "LogisticRegression_balansed       0.74       127.07"
            ]
          },
          "execution_count": 29,
          "metadata": {},
          "output_type": "execute_result"
        }
      ],
      "source": [
        "result_write('LogisticRegression',f1_train_lr, t_lr_cv1)\n",
        "result_write('LogisticRegression_balansed', f1_train_bal_lr, t_lr_bal_cv1)\n",
        "#result_write('LogisticRegression_resampled', f1_train_res_lr, t_lr_res_cv)"
      ]
    },
    {
      "cell_type": "markdown",
      "metadata": {
        "id": "-VAxCW_GyfQ8"
      },
      "source": [
        "### **Вывод:**\n",
        "\n",
        "- В ходе предподготовки были получены признаки для обучения и разделена выборка на обучающую, валидационную и тестовую.\n",
        "- Выполнили векторизацию слов методом **TfidfVectorize**.\n",
        "- На на кросвалидации модели - выявили, что лучшие результаты показали сбаллансированные данные (использовали модель Логистической регрессии).\n",
        "- Далее будем проводить обучение моделей на  чистых данных (будем применять балансировку в подборе параметров)"
      ]
    },
    {
      "cell_type": "markdown",
      "metadata": {
        "id": "Wz9exbip8VFN"
      },
      "source": [
        "### **Непосредственно обучение:**\n",
        "напишем функции для обучения моделей, используем GridSearchCV"
      ]
    },
    {
      "cell_type": "code",
      "execution_count": null,
      "metadata": {
        "colab": {
          "base_uri": "https://localhost:8080/"
        },
        "id": "nFEEmGNITq40",
        "outputId": "35113f9c-5d0c-45dc-c6b3-16fd76a78ed1"
      },
      "outputs": [
        {
          "name": "stdout",
          "output_type": "stream",
          "text": [
            "CPU times: user 0 ns, sys: 15 µs, total: 15 µs\n",
            "Wall time: 17.6 µs\n"
          ]
        }
      ],
      "source": [
        "%%time\n",
        "\n",
        "def research (model, features, target, param_search, name_model):\n",
        "    gsearch = GridSearchCV(estimator=model, cv=5, param_grid=param_search, scoring = 'f1')\n",
        "    gsearch.fit(features_train, target_train)\n",
        "    best_score = gsearch.best_score_\n",
        "    best_model = gsearch.best_estimator_\n",
        "    print('F1 = {:.4f}'.format(best_score))\n",
        "    print('Лучшие гиперпараметры: ', gsearch.best_params_)\n",
        "    print(f'Лучшие гиперпараметры {name_model}: {best_model}')\n",
        "    return best_score, best_model    #, best_score"
      ]
    },
    {
      "cell_type": "code",
      "execution_count": null,
      "metadata": {
        "id": "1nulgb8AEmaZ"
      },
      "outputs": [],
      "source": [
        "# Расчет по чистым данным c Pipeline\n",
        "def research_pipe(model, features, target, param_search, name_model):\n",
        "    #обучение:\n",
        "    pipeline = Pipeline([#(\"vect\", TfidfVectorizer(stop_words='english')),\n",
        "                     (f\"{name_model}\", model)])\n",
        "    gsearch = GridSearchCV(pipeline, param_grid=param_search, cv=5, n_jobs=-1, scoring='f1')\n",
        "    gsearch.fit(features_train, target_train)\n",
        "    best_model = gsearch.best_estimator_\n",
        "    best_score = gsearch.best_score_\n",
        "    print('F1 = {:.4f}'.format(best_score))\n",
        "    print(f'Лучшие гиперпараметры LR: {best_model}')\n",
        "    print(f'Лучшие гиперпараметры LR: ', gsearch.best_params_)\n",
        "\n",
        "    return gsearch.best_score_, best_model"
      ]
    },
    {
      "cell_type": "code",
      "execution_count": null,
      "metadata": {
        "id": "TNVq82iYHFoC"
      },
      "outputs": [],
      "source": [
        "def predict_result(model, features, target, name_model, name_sample):\n",
        "    prediction = model.predict(features) #['text']\n",
        "    f1_result = f1_score(target, prediction)\n",
        "    #print(f1_result)\n",
        "    print(f'{name_model}: F1_{name_sample} ={ round(f1_result,4)}')\n",
        "    return f1_result"
      ]
    },
    {
      "cell_type": "markdown",
      "metadata": {
        "id": "8nYYOgI5oseo"
      },
      "source": [
        "**2.1.1. Логистическая регрессия**"
      ]
    },
    {
      "cell_type": "code",
      "execution_count": null,
      "metadata": {
        "colab": {
          "base_uri": "https://localhost:8080/"
        },
        "id": "JQKNQq_aHJpX",
        "outputId": "4306276e-269f-4bc4-b9f1-dc307160b160"
      },
      "outputs": [
        {
          "name": "stdout",
          "output_type": "stream",
          "text": [
            "F1 = 0.7560\n",
            "Лучшие гиперпараметры:  {'C': 15.0, 'class_weight': 'balanced', 'max_iter': 100, 'random_state': 12345, 'solver': 'sag'}\n",
            "Лучшие гиперпараметры LogisticRegression: LogisticRegression(C=15.0, class_weight='balanced', random_state=12345,\n",
            "                   solver='sag')\n",
            "119.9\n",
            "CPU times: user 1min 59s, sys: 112 ms, total: 1min 59s\n",
            "Wall time: 1min 59s\n"
          ]
        }
      ],
      "source": [
        "%%time\n",
        "start = time.time()\n",
        "param_search_lr = {'random_state' : [12345], 'max_iter': [100], 'solver' : ['sag'],\n",
        "                'class_weight': ['balanced'], 'C': np.linspace(0.01, 15, 5)\n",
        "                }#\n",
        "\n",
        "train_lr_f1, model_lr = research (LogisticRegression(),features_train, target_train,\\\n",
        "                                      param_search_lr, 'LogisticRegression')\n",
        "\n",
        "\n",
        "end = time.time()\n",
        "t_lr=round(end-start,2)\n",
        "print(t_lr)"
      ]
    },
    {
      "cell_type": "code",
      "execution_count": null,
      "metadata": {
        "id": "5CDmDqC1Emab",
        "outputId": "6e0bafa1-7bb8-4519-9220-c787bda1371f"
      },
      "outputs": [
        {
          "name": "stdout",
          "output_type": "stream",
          "text": [
            "F1 = 0.7504\n",
            "Лучшие гиперпараметры LR: Pipeline(steps=[('lr',\n",
            "                 LogisticRegression(C=15, class_weight='balanced', max_iter=20,\n",
            "                                    random_state=12345))])\n",
            "Лучшие гиперпараметры LR:  {'lr__C': 15, 'lr__class_weight': 'balanced', 'lr__max_iter': 20, 'lr__random_state': 12345}\n",
            "CPU times: user 43.4 s, sys: 1min 34s, total: 2min 17s\n",
            "Wall time: 2min 18s\n"
          ]
        }
      ],
      "source": [
        "%%time\n",
        "start = time.time()\n",
        "parameters = {'lr__C': (.1, 15, 5),\n",
        "              'lr__random_state': ([12345]),\n",
        "              'lr__max_iter': ([20]),\n",
        "              'lr__class_weight': (['balanced'])}\n",
        "train_lr_f1_pipe, model_lr_pipe = research_pipe(LogisticRegression(), features_train1, target_train,\\\n",
        "                                                    parameters, 'lr')\n",
        "end = time.time()\n",
        "t_catb_res=round(end-start,4)"
      ]
    },
    {
      "cell_type": "code",
      "execution_count": null,
      "metadata": {
        "id": "SvzJ19x_Emab",
        "outputId": "df80b443-f4f6-4805-f529-228036cedd55"
      },
      "outputs": [
        {
          "name": "stdout",
          "output_type": "stream",
          "text": [
            "На LogisticRegression F1 = 0.7559519925346023\n",
            "CPU times: user 26.1 s, sys: 128 ms, total: 26.2 s\n",
            "Wall time: 26.4 s\n"
          ]
        }
      ],
      "source": [
        "%%time\n",
        "start = time.time()\n",
        "f1_lr_cv = cross_val_model(model_lr, features_train, target_train,\\\n",
        "                              'LogisticRegression') #, silent=False\n",
        "\n",
        "\n",
        "end = time.time()\n",
        "t_lr_cv=round(end-start,2)"
      ]
    },
    {
      "cell_type": "markdown",
      "metadata": {
        "id": "Z8Jpz6o-yxGM"
      },
      "source": [
        "**2.1.2. CatBoostClassifier**"
      ]
    },
    {
      "cell_type": "code",
      "execution_count": null,
      "metadata": {
        "colab": {
          "base_uri": "https://localhost:8080/"
        },
        "id": "qywBhXQ3ctJN",
        "outputId": "d5ec3e5a-364f-44ca-a534-d6d4fa88a8e1"
      },
      "outputs": [
        {
          "name": "stdout",
          "output_type": "stream",
          "text": [
            "F1 = 0.6160\n",
            "Лучшие гиперпараметры:  {'auto_class_weights': 'Balanced', 'iterations': 5, 'max_depth': 6, 'random_state': 12345, 'verbose': False}\n",
            "Лучшие гиперпараметры CatBoostClassifier: <catboost.core.CatBoostClassifier object at 0x7f8b243410d0>\n",
            "691.42\n",
            "CPU times: user 10min 52s, sys: 14 s, total: 11min 6s\n",
            "Wall time: 11min 31s\n"
          ]
        }
      ],
      "source": [
        "%%time\n",
        "start = time.time()\n",
        "parameters = {'iterations': [5],'max_depth': [x for x in range(1, 8)],\n",
        "              'auto_class_weights': ['Balanced'],'random_state' : [12345],'verbose' : [False]\n",
        "              }#'task_type':[\"GPU\"],\n",
        "\n",
        "train_catb_f1, model_catb = research(CatBoostClassifier(), features_train, target_train,\\\n",
        "                                              parameters,'CatBoostClassifier')\n",
        "\n",
        "\n",
        "end = time.time()\n",
        "t_catb=round(end-start,2)\n",
        "print(t_catb)"
      ]
    },
    {
      "cell_type": "code",
      "execution_count": null,
      "metadata": {
        "id": "YgeHDhQbEmac",
        "outputId": "2d7689f3-93b9-469d-ba8c-75d8ab1a2bea"
      },
      "outputs": [
        {
          "name": "stdout",
          "output_type": "stream",
          "text": [
            "F1 = 0.5681\n",
            "Лучшие гиперпараметры LR: Pipeline(steps=[('catb',\n",
            "                 <catboost.core.CatBoostClassifier object at 0x7f8a3437b5e0>)])\n",
            "Лучшие гиперпараметры LR:  {'catb__iterations': 5, 'catb__max_depth': 7, 'catb__random_state': 12345, 'catb__verbose': False}\n",
            "CPU times: user 9min 41s, sys: 13.3 s, total: 9min 54s\n",
            "Wall time: 10min 14s\n"
          ]
        }
      ],
      "source": [
        "%%time\n",
        "start = time.time()\n",
        "parameters = {'catb__iterations': ([5]),\n",
        "              'catb__random_state': ([12345]),\n",
        "              'catb__max_depth': ([x for x in range(1, 8)]),\n",
        "              'catb__class_weights': (['balanced']),\n",
        "              'catb__verbose' : ([False])}\n",
        "train_catb_f1_pipe, model_catb_pipe = research_pipe(CatBoostClassifier(), features_train1, target_train,\\\n",
        "                                                    parameters, 'catb')\n",
        "end = time.time()\n",
        "t_catb_pipe=round(end-start,4)"
      ]
    },
    {
      "cell_type": "code",
      "execution_count": null,
      "metadata": {
        "id": "tWf65lrtEmac",
        "outputId": "1670e6c5-fa27-4720-ebd2-136e4dc68c3b"
      },
      "outputs": [
        {
          "name": "stdout",
          "output_type": "stream",
          "text": [
            "На LogisticRegression F1 = 0.6159854265086198\n",
            "CPU times: user 1min 41s, sys: 3.03 s, total: 1min 44s\n",
            "Wall time: 1min 48s\n"
          ]
        }
      ],
      "source": [
        "%%time\n",
        "start = time.time()\n",
        "f1_catb_cv = cross_val_model(model_catb, features_train, target_train,\\\n",
        "                              'CatBoostClassifier') #, silent=False\n",
        "\n",
        "\n",
        "end = time.time()\n",
        "t_catb_cv=round(end-start,2)"
      ]
    },
    {
      "cell_type": "markdown",
      "metadata": {
        "id": "WElxym2O3-KQ"
      },
      "source": [
        "**2.1.3. Случайный лес**"
      ]
    },
    {
      "cell_type": "code",
      "execution_count": null,
      "metadata": {
        "colab": {
          "base_uri": "https://localhost:8080/"
        },
        "id": "2d9q0D14mAyt",
        "outputId": "765176fd-7ba3-4d7a-f3ef-b1d0ff8bfbcc"
      },
      "outputs": [
        {
          "name": "stdout",
          "output_type": "stream",
          "text": [
            "F1 = 0.2785\n",
            "Лучшие гиперпараметры:  {'class_weight': 'balanced', 'criterion': 'entropy', 'max_depth': 19, 'n_estimators': 3, 'random_state': 12345}\n",
            "Лучшие гиперпараметры RandomForestClassifier(): RandomForestClassifier(class_weight='balanced', criterion='entropy',\n",
            "                       max_depth=19, n_estimators=3, random_state=12345)\n",
            "118.08\n",
            "CPU times: user 1min 49s, sys: 8.28 s, total: 1min 57s\n",
            "Wall time: 1min 58s\n"
          ]
        }
      ],
      "source": [
        "%%time\n",
        "start = time.time()\n",
        "parameters = {'max_depth': [x for x in range(1, 20)],\n",
        "              'random_state': [12345], 'class_weight': ['balanced'],\n",
        "              'criterion': ['entropy', 'gini'], 'n_estimators': range (1, 5, 2)\n",
        "              #'verbose':[False],'task_type':[\"GPU\"],\n",
        "              }\n",
        "train_rfc_f1, model_rfc = research(RandomForestClassifier(), features_train, \\\n",
        "                                              target_train, parameters,'RandomForestClassifier()')\n",
        "\n",
        "end = time.time()\n",
        "t_rfc=round(end-start,2)\n",
        "print(t_rfc)"
      ]
    },
    {
      "cell_type": "code",
      "execution_count": null,
      "metadata": {
        "id": "XuC1YqtREmad",
        "outputId": "da29d7d9-a8e1-4f4c-f304-c17a6702ba16"
      },
      "outputs": [
        {
          "name": "stdout",
          "output_type": "stream",
          "text": [
            "На RandomForestClassifier F1 = 0.27845215447006544\n",
            "CPU times: user 3.46 s, sys: 78.1 ms, total: 3.54 s\n",
            "Wall time: 3.54 s\n"
          ]
        }
      ],
      "source": [
        "%%time\n",
        "start = time.time()\n",
        "f1_rfc_cv = cross_val_model(model_rfc, features_train, target_train,\\\n",
        "                              'RandomForestClassifier') #, silent=False\n",
        "\n",
        "\n",
        "end = time.time()\n",
        "t_rfc_cv=round(end-start,2)"
      ]
    },
    {
      "cell_type": "markdown",
      "metadata": {
        "id": "L-hpVbyUGhZJ"
      },
      "source": [
        "**2.1.4. SGDClassifier**"
      ]
    },
    {
      "cell_type": "code",
      "execution_count": null,
      "metadata": {
        "colab": {
          "base_uri": "https://localhost:8080/"
        },
        "id": "ohK5EsXRdZRX",
        "outputId": "eb8e9e19-1396-4efa-a59d-951153ffbaec",
        "scrolled": false
      },
      "outputs": [
        {
          "name": "stdout",
          "output_type": "stream",
          "text": [
            "F1 = 0.7487\n",
            "Лучшие гиперпараметры:  {'class_weight': 'balanced', 'eta0': 0.1, 'learning_rate': 'adaptive', 'loss': 'modified_huber', 'random_state': 12345}\n",
            "Лучшие гиперпараметры SGDClassifier: SGDClassifier(class_weight='balanced', eta0=0.1, learning_rate='adaptive',\n",
            "              loss='modified_huber', random_state=12345)\n",
            "316.1\n",
            "CPU times: user 4min 37s, sys: 37.9 s, total: 5min 15s\n",
            "Wall time: 5min 16s\n"
          ]
        }
      ],
      "source": [
        "%%time\n",
        "start = time.time()\n",
        "param_search_sgdc = {'learning_rate':['constant', 'optimal', 'invscaling', 'adaptive'],\n",
        "                'loss':['hinge', 'log', 'modified_huber'],\n",
        "                'random_state' : [12345],\n",
        "                'eta0': [0.01, 0.05, 0.1, 0.2, 0.3, 0.5],\n",
        "                'class_weight': ['balanced']}\n",
        "\n",
        "train_sgdc_f1, model_sgdc = research (SGDClassifier(),features_train, target_train, param_search_sgdc, 'SGDClassifier')\n",
        "\n",
        "end = time.time()\n",
        "t_sgdc=round(end-start,2)\n",
        "print(t_sgdc)"
      ]
    },
    {
      "cell_type": "code",
      "execution_count": null,
      "metadata": {
        "id": "WHiXdg4pEmad",
        "outputId": "9799ff8f-adb8-495c-e6f2-62efd3c20b4b"
      },
      "outputs": [
        {
          "name": "stdout",
          "output_type": "stream",
          "text": [
            "На SGDClassifier F1 = 0.7486783142774656\n",
            "CPU times: user 5.16 s, sys: 659 ms, total: 5.82 s\n",
            "Wall time: 5.92 s\n"
          ]
        }
      ],
      "source": [
        "%%time\n",
        "start = time.time()\n",
        "f1_sgdc_cv = cross_val_model(model_sgdc, features_train, target_train,\\\n",
        "                              'SGDClassifier') #, silent=False\n",
        "\n",
        "\n",
        "end = time.time()\n",
        "t_sgdc_cv=round(end-start,2)"
      ]
    },
    {
      "cell_type": "markdown",
      "metadata": {
        "id": "JeXLSTPtEmae"
      },
      "source": [
        "### **Протестируем лучшую модель:**"
      ]
    },
    {
      "cell_type": "code",
      "execution_count": null,
      "metadata": {
        "colab": {
          "base_uri": "https://localhost:8080/"
        },
        "id": "Li89gDGvHtkV",
        "outputId": "3062ff7b-242b-4b62-e377-0b25bd8031b2"
      },
      "outputs": [
        {
          "name": "stdout",
          "output_type": "stream",
          "text": [
            "LogisticRegression: F1_test =0.7622\n"
          ]
        }
      ],
      "source": [
        "f1_lr = predict_result(model_lr, features_test, target_test, 'LogisticRegression', 'test')"
      ]
    },
    {
      "cell_type": "code",
      "execution_count": null,
      "metadata": {
        "id": "WMqoy60gdgl2"
      },
      "outputs": [],
      "source": [
        "#f1_sgdc = predict_result(model_sgdc, features_test, target_test, 'SGDClassifier', 'test')"
      ]
    },
    {
      "cell_type": "code",
      "execution_count": null,
      "metadata": {
        "id": "-TuyaylUc4DK"
      },
      "outputs": [],
      "source": [
        "#f1_catb = predict_result(model_catb, features_test, target_test, 'CatBoostClassifier', 'test')"
      ]
    },
    {
      "cell_type": "code",
      "execution_count": null,
      "metadata": {
        "id": "2cJe3hY9mHMG"
      },
      "outputs": [],
      "source": [
        "#f1_rfc = predict_result(model_rfc, features_test, target_test, 'RandomForestClassifier', 'test')"
      ]
    },
    {
      "cell_type": "markdown",
      "metadata": {
        "id": "k2tWSdno9pyG"
      },
      "source": [
        "### **2.2 Обучение на BERT**\n",
        "\n",
        "Обучение проводила в отдельном файле в Колабе (в силу ограниченности ресурсов)\n",
        "> все данные занесены в таблицу ниже и в выводах\n",
        "\n",
        "Ссылка на файл: https://colab.research.google.com/drive/12qs7ow6BDtS1kQR4VawJPtravKGGF0h7?usp=sharing"
      ]
    },
    {
      "cell_type": "markdown",
      "metadata": {
        "id": "QuTZOlUI7W2I"
      },
      "source": [
        "## Выводы"
      ]
    },
    {
      "cell_type": "code",
      "execution_count": null,
      "metadata": {
        "colab": {
          "base_uri": "https://localhost:8080/",
          "height": 175
        },
        "id": "qDUw5lwM7W2I",
        "outputId": "d37048e8-aa6f-41d2-8d7a-6c6b6c03e22c",
        "scrolled": true
      },
      "outputs": [
        {
          "data": {
            "text/html": [
              "<div>\n",
              "<style scoped>\n",
              "    .dataframe tbody tr th:only-of-type {\n",
              "        vertical-align: middle;\n",
              "    }\n",
              "\n",
              "    .dataframe tbody tr th {\n",
              "        vertical-align: top;\n",
              "    }\n",
              "\n",
              "    .dataframe thead th {\n",
              "        text-align: right;\n",
              "    }\n",
              "</style>\n",
              "<table border=\"1\" class=\"dataframe\">\n",
              "  <thead>\n",
              "    <tr style=\"text-align: right;\">\n",
              "      <th></th>\n",
              "      <th>F1_Берте на тесте</th>\n",
              "      <th>F1_TF-IDF на тесте</th>\n",
              "      <th>F1_cv на Берте</th>\n",
              "      <th>F1_cv на TF-IDF</th>\n",
              "      <th>Время выполнения на тесте, сек</th>\n",
              "      <th>Выполнение задачи</th>\n",
              "    </tr>\n",
              "  </thead>\n",
              "  <tbody>\n",
              "    <tr>\n",
              "      <th>LogisticRegression</th>\n",
              "      <td>0.98</td>\n",
              "      <td>0.76</td>\n",
              "      <td>0.92</td>\n",
              "      <td>0.76</td>\n",
              "      <td>119.90</td>\n",
              "      <td>True</td>\n",
              "    </tr>\n",
              "    <tr>\n",
              "      <th>CatBoostClassifier</th>\n",
              "      <td>None</td>\n",
              "      <td>None</td>\n",
              "      <td>0.00</td>\n",
              "      <td>0.62</td>\n",
              "      <td>691.42</td>\n",
              "      <td>False</td>\n",
              "    </tr>\n",
              "    <tr>\n",
              "      <th>RandomForestClassifier</th>\n",
              "      <td>None</td>\n",
              "      <td>None</td>\n",
              "      <td>0.92</td>\n",
              "      <td>0.28</td>\n",
              "      <td>118.08</td>\n",
              "      <td>True</td>\n",
              "    </tr>\n",
              "    <tr>\n",
              "      <th>SGDClassifier</th>\n",
              "      <td>None</td>\n",
              "      <td>None</td>\n",
              "      <td>0.86</td>\n",
              "      <td>0.75</td>\n",
              "      <td>316.10</td>\n",
              "      <td>True</td>\n",
              "    </tr>\n",
              "  </tbody>\n",
              "</table>\n",
              "</div>"
            ],
            "text/plain": [
              "                       F1_Берте на тесте F1_TF-IDF на тесте  F1_cv на Берте  \\\n",
              "LogisticRegression                  0.98               0.76            0.92   \n",
              "CatBoostClassifier                  None               None            0.00   \n",
              "RandomForestClassifier              None               None            0.92   \n",
              "SGDClassifier                       None               None            0.86   \n",
              "\n",
              "                        F1_cv на TF-IDF  Время выполнения на тесте, сек  \\\n",
              "LogisticRegression                 0.76                          119.90   \n",
              "CatBoostClassifier                 0.62                          691.42   \n",
              "RandomForestClassifier             0.28                          118.08   \n",
              "SGDClassifier                      0.75                          316.10   \n",
              "\n",
              "                        Выполнение задачи  \n",
              "LogisticRegression                   True  \n",
              "CatBoostClassifier                  False  \n",
              "RandomForestClassifier               True  \n",
              "SGDClassifier                        True  "
            ]
          },
          "execution_count": 67,
          "metadata": {},
          "output_type": "execute_result"
        }
      ],
      "source": [
        "#Результаты на BERT\n",
        "f1_cv_lr = 0.9217   #'LogisticRegression'\n",
        "f1_cv_sgdc =0.8623  #'SGDClassifier'\n",
        "f1_cv_rf = 0.9152    #'RandomForestClassifier'\n",
        "f1_cv_dtc = 0.9152 #'DecisionTreeClassifier'\n",
        "f1_test_lr = 0.9778\n",
        "#LogisticRegression\t0.9217\t0.9778\n",
        "#SGDClassifier\t0.8623\tNone\n",
        "#RandomForestClassifier\t0.9152\tNone\n",
        "#DecisionTreeClassifier\t0.9152\tNone\n",
        "\n",
        "index = ['LogisticRegression',\n",
        "         'CatBoostClassifier',\n",
        "         'RandomForestClassifier',\n",
        "         'SGDClassifier',]\n",
        "data = {'F1_Берте на тесте':[f1_test_lr,\n",
        "                      'None',\n",
        "                      'None',\n",
        "                      'None'],\n",
        "        'F1_TF-IDF на тесте':[f1_lr,\n",
        "                           'None',#f1_catb\n",
        "                           'None',#f1_rfc\n",
        "                           'None'],#f1_sgdc\n",
        "        'F1_cv на Берте':[f1_cv_lr,\n",
        "                      0,\n",
        "                      f1_cv_rf,\n",
        "                      f1_cv_sgdc],\n",
        "        'F1_cv на TF-IDF':[f1_lr_cv,\n",
        "                           f1_catb_cv,\n",
        "                           f1_rfc_cv,\n",
        "                           f1_sgdc_cv],\n",
        "        'Время выполнения на тесте, сек':[t_lr,\n",
        "                                          t_catb,\n",
        "                                          t_rfc,\n",
        "                                          t_sgdc],}\n",
        "\n",
        "scores_data = pd.DataFrame(data=data, index=index)\n",
        "scores_data['Выполнение задачи'] = scores_data['F1_cv на Берте'] >= 0.75\n",
        "scores_data"
      ]
    },
    {
      "cell_type": "markdown",
      "metadata": {
        "id": "xg3w6KKamtaS"
      },
      "source": [
        "# **Выводы:**\n",
        "- Загрузила данные:\n",
        "  - Обнаружила, что соотношение в целевом признаке: 9/1 - явный дисбаланс, при обучении модели учитывала это, поэтому проверяла на применение параметра баллансировки;\n",
        "- Обработала данные:\n",
        "  - привела все к нижнему регистру.\n",
        "  - из-за ограниченности ресурсов - данные обрезала случайным образом.\n",
        "  - лематизировала и отчистила тексты.\n",
        "- Выполнила векторизацию слов методом **TfidfVectorize**.\n",
        "- На на кросвалидации модели - выявили, что лучшие результаты показали ресемплированные данные (использовали модель Логистической регрессии).\n",
        "- Проводила обучение моделей на ресемплированных и чистых данных (будем применять балансировку в подборе параметров)\n",
        "- Использовала следующие модели:\n",
        "   - `LogisticRegression`,\n",
        "   - `CatBoostClassifier`,\n",
        "   - `RandomForestClassifier`,\n",
        "   - `SGDClassifier`\n",
        "   - Дополнительно провела исследование моделей на **BERT**\n",
        "- Применили обучение модели методом **BERT**(использовала обученную на определение токсичности)\n",
        "- По итогу исследований - выявили, что лучше всех себя  показывает модель **Логистической регрессии** (и RandomForestClassifier также с близкими показателями):\n",
        "  - лучший результат в **f1 = 0.9268** получила при использовании модели **BERT**\n",
        "  - лучшей моделью на **TF-IDF** оказалась также Логистическая регрессия : **F1_test =0.7622**\n",
        "  > модель BERT запускала на колабе, использовала выборку в 1000 из-за граниченности ресурсов\n",
        "Неплохо себя также показала модель  Логистической регресии\n",
        "\n"
      ]
    }
  ],
  "metadata": {
    "ExecuteTimeLog": [
      {
        "duration": 12,
        "start_time": "2023-03-24T13:03:25.037Z"
      },
      {
        "duration": 6,
        "start_time": "2023-03-24T13:04:32.429Z"
      },
      {
        "duration": 54,
        "start_time": "2023-03-24T13:14:49.582Z"
      },
      {
        "duration": 2016,
        "start_time": "2023-03-24T13:15:11.941Z"
      },
      {
        "duration": 3119,
        "start_time": "2023-03-24T13:15:21.012Z"
      },
      {
        "duration": 5,
        "start_time": "2023-03-24T13:16:04.266Z"
      },
      {
        "duration": 1178,
        "start_time": "2023-03-24T13:16:07.030Z"
      },
      {
        "duration": 7,
        "start_time": "2023-03-24T13:16:31.184Z"
      },
      {
        "duration": 539,
        "start_time": "2023-03-24T13:16:33.554Z"
      },
      {
        "duration": 18,
        "start_time": "2023-03-24T13:17:27.886Z"
      },
      {
        "duration": 7,
        "start_time": "2023-03-24T13:18:10.853Z"
      },
      {
        "duration": 23,
        "start_time": "2023-03-24T13:18:20.647Z"
      },
      {
        "duration": 7,
        "start_time": "2023-03-24T13:19:07.010Z"
      },
      {
        "duration": 16,
        "start_time": "2023-03-24T13:19:12.750Z"
      },
      {
        "duration": 10,
        "start_time": "2023-03-24T13:19:30.391Z"
      },
      {
        "duration": 15,
        "start_time": "2023-03-24T13:19:36.967Z"
      },
      {
        "duration": 5,
        "start_time": "2023-03-24T13:20:25.346Z"
      },
      {
        "duration": 1802,
        "start_time": "2023-03-24T13:20:48.551Z"
      },
      {
        "duration": 2692,
        "start_time": "2023-03-24T13:21:02.956Z"
      },
      {
        "duration": 6,
        "start_time": "2023-03-24T13:21:10.151Z"
      },
      {
        "duration": 531,
        "start_time": "2023-03-24T13:21:13.859Z"
      },
      {
        "duration": 282,
        "start_time": "2023-03-24T13:25:39.784Z"
      },
      {
        "duration": 258,
        "start_time": "2023-03-24T13:25:44.612Z"
      },
      {
        "duration": 259,
        "start_time": "2023-03-24T13:25:48.989Z"
      },
      {
        "duration": 274,
        "start_time": "2023-03-24T13:25:52.787Z"
      },
      {
        "duration": 3,
        "start_time": "2023-03-24T13:29:38.247Z"
      },
      {
        "duration": 183,
        "start_time": "2023-03-24T13:31:01.141Z"
      },
      {
        "duration": 5,
        "start_time": "2023-03-24T13:31:10.018Z"
      },
      {
        "duration": 54,
        "start_time": "2023-03-24T13:31:21.917Z"
      },
      {
        "duration": 47,
        "start_time": "2023-03-24T13:31:32.500Z"
      },
      {
        "duration": 7,
        "start_time": "2023-03-24T13:31:36.610Z"
      },
      {
        "duration": 5,
        "start_time": "2023-03-24T13:31:38.842Z"
      },
      {
        "duration": 4,
        "start_time": "2023-03-24T13:31:41.630Z"
      },
      {
        "duration": 353,
        "start_time": "2023-03-24T13:31:43.162Z"
      },
      {
        "duration": 190,
        "start_time": "2023-03-24T13:35:18.187Z"
      },
      {
        "duration": 6,
        "start_time": "2023-03-24T13:35:38.731Z"
      },
      {
        "duration": 4,
        "start_time": "2023-03-24T13:35:40.524Z"
      },
      {
        "duration": 5705,
        "start_time": "2023-03-24T13:35:41.912Z"
      },
      {
        "duration": 3,
        "start_time": "2023-03-24T13:35:47.622Z"
      },
      {
        "duration": 2340,
        "start_time": "2023-03-24T13:35:47.627Z"
      },
      {
        "duration": 24,
        "start_time": "2023-03-24T13:35:49.970Z"
      },
      {
        "duration": 740,
        "start_time": "2023-03-24T13:35:49.999Z"
      },
      {
        "duration": 390,
        "start_time": "2023-03-24T13:35:50.742Z"
      },
      {
        "duration": 343,
        "start_time": "2023-03-24T13:35:51.136Z"
      },
      {
        "duration": 295,
        "start_time": "2023-03-24T13:35:51.481Z"
      },
      {
        "duration": 332,
        "start_time": "2023-03-24T13:35:51.785Z"
      },
      {
        "duration": 41,
        "start_time": "2023-03-24T13:35:53.710Z"
      },
      {
        "duration": 3,
        "start_time": "2023-03-24T13:35:57.276Z"
      },
      {
        "duration": 14,
        "start_time": "2023-03-24T13:36:00.083Z"
      },
      {
        "duration": 3,
        "start_time": "2023-03-24T13:36:01.474Z"
      },
      {
        "duration": 357,
        "start_time": "2023-03-24T13:36:02.799Z"
      },
      {
        "duration": 14,
        "start_time": "2023-03-24T13:37:16.606Z"
      },
      {
        "duration": 2,
        "start_time": "2023-03-24T13:37:17.844Z"
      },
      {
        "duration": 4910,
        "start_time": "2023-03-24T13:37:18.112Z"
      },
      {
        "duration": 3,
        "start_time": "2023-03-24T13:37:23.024Z"
      },
      {
        "duration": 2156,
        "start_time": "2023-03-24T13:37:23.028Z"
      },
      {
        "duration": 18,
        "start_time": "2023-03-24T13:37:25.186Z"
      },
      {
        "duration": 558,
        "start_time": "2023-03-24T13:37:25.205Z"
      },
      {
        "duration": 371,
        "start_time": "2023-03-24T13:37:25.765Z"
      },
      {
        "duration": 314,
        "start_time": "2023-03-24T13:37:26.138Z"
      },
      {
        "duration": 268,
        "start_time": "2023-03-24T13:37:26.455Z"
      },
      {
        "duration": 290,
        "start_time": "2023-03-24T13:37:27.368Z"
      },
      {
        "duration": 44,
        "start_time": "2023-03-24T13:37:29.873Z"
      },
      {
        "duration": 3,
        "start_time": "2023-03-24T13:37:32.633Z"
      },
      {
        "duration": 8,
        "start_time": "2023-03-24T13:37:33.548Z"
      },
      {
        "duration": 8,
        "start_time": "2023-03-24T13:37:34.406Z"
      },
      {
        "duration": 346,
        "start_time": "2023-03-24T13:37:35.183Z"
      },
      {
        "duration": 1986465,
        "start_time": "2023-03-24T13:37:36.263Z"
      },
      {
        "duration": 2418,
        "start_time": "2023-03-24T14:16:26.685Z"
      },
      {
        "duration": 53,
        "start_time": "2023-03-24T14:28:01.622Z"
      },
      {
        "duration": 3905,
        "start_time": "2023-03-24T14:28:17.356Z"
      },
      {
        "duration": 30,
        "start_time": "2023-03-24T14:28:34.653Z"
      },
      {
        "duration": 69,
        "start_time": "2023-03-24T14:30:06.932Z"
      },
      {
        "duration": 27,
        "start_time": "2023-03-24T14:31:11.643Z"
      },
      {
        "duration": 3,
        "start_time": "2023-03-24T14:31:16.502Z"
      },
      {
        "duration": 5,
        "start_time": "2023-03-24T14:31:17.298Z"
      },
      {
        "duration": 3,
        "start_time": "2023-03-24T14:31:17.837Z"
      },
      {
        "duration": 113,
        "start_time": "2023-03-24T14:31:18.683Z"
      },
      {
        "duration": 302,
        "start_time": "2023-03-24T14:31:19.832Z"
      },
      {
        "duration": 79,
        "start_time": "2023-03-24T14:31:44.362Z"
      },
      {
        "duration": 6,
        "start_time": "2023-03-24T14:32:01.600Z"
      },
      {
        "duration": 3,
        "start_time": "2023-03-24T14:32:03.152Z"
      },
      {
        "duration": 1633,
        "start_time": "2023-03-24T14:32:03.392Z"
      },
      {
        "duration": 6,
        "start_time": "2023-03-24T14:32:05.028Z"
      },
      {
        "duration": 2544,
        "start_time": "2023-03-24T14:32:05.102Z"
      },
      {
        "duration": 6,
        "start_time": "2023-03-24T14:32:07.649Z"
      },
      {
        "duration": 532,
        "start_time": "2023-03-24T14:32:07.657Z"
      },
      {
        "duration": 293,
        "start_time": "2023-03-24T14:32:11.177Z"
      },
      {
        "duration": 289,
        "start_time": "2023-03-24T14:32:14.140Z"
      },
      {
        "duration": 238,
        "start_time": "2023-03-24T14:32:14.671Z"
      },
      {
        "duration": 257,
        "start_time": "2023-03-24T14:32:15.245Z"
      },
      {
        "duration": 33,
        "start_time": "2023-03-24T14:32:16.382Z"
      },
      {
        "duration": 3,
        "start_time": "2023-03-24T14:32:18.242Z"
      },
      {
        "duration": 5,
        "start_time": "2023-03-24T14:32:19.908Z"
      },
      {
        "duration": 3,
        "start_time": "2023-03-24T14:32:21.992Z"
      },
      {
        "duration": 109,
        "start_time": "2023-03-24T14:32:22.891Z"
      },
      {
        "duration": 801134,
        "start_time": "2023-03-24T14:32:23.931Z"
      },
      {
        "duration": 1385,
        "start_time": "2023-03-24T14:53:42.129Z"
      },
      {
        "duration": 973,
        "start_time": "2023-03-24T14:59:53.926Z"
      },
      {
        "duration": 682,
        "start_time": "2023-03-24T15:00:28.472Z"
      },
      {
        "duration": 43,
        "start_time": "2023-03-24T15:00:43.440Z"
      },
      {
        "duration": 1725,
        "start_time": "2023-03-24T15:01:04.417Z"
      },
      {
        "duration": 20,
        "start_time": "2023-03-24T15:01:45.986Z"
      },
      {
        "duration": 5,
        "start_time": "2023-03-24T15:02:36.855Z"
      },
      {
        "duration": 2,
        "start_time": "2023-03-24T15:02:38.162Z"
      },
      {
        "duration": 1686,
        "start_time": "2023-03-24T15:02:38.484Z"
      },
      {
        "duration": 2,
        "start_time": "2023-03-24T15:02:40.172Z"
      },
      {
        "duration": 1709,
        "start_time": "2023-03-24T15:02:40.175Z"
      },
      {
        "duration": 6,
        "start_time": "2023-03-24T15:02:41.888Z"
      },
      {
        "duration": 509,
        "start_time": "2023-03-24T15:02:41.896Z"
      },
      {
        "duration": 300,
        "start_time": "2023-03-24T15:02:44.600Z"
      },
      {
        "duration": 294,
        "start_time": "2023-03-24T15:02:50.701Z"
      },
      {
        "duration": 224,
        "start_time": "2023-03-24T15:02:52.485Z"
      },
      {
        "duration": 254,
        "start_time": "2023-03-24T15:02:54.180Z"
      },
      {
        "duration": 25,
        "start_time": "2023-03-24T15:02:57.435Z"
      },
      {
        "duration": 3,
        "start_time": "2023-03-24T15:03:00.471Z"
      },
      {
        "duration": 6,
        "start_time": "2023-03-24T15:03:01.125Z"
      },
      {
        "duration": 3,
        "start_time": "2023-03-24T15:03:03.211Z"
      },
      {
        "duration": 113,
        "start_time": "2023-03-24T15:03:04.637Z"
      },
      {
        "duration": 774610,
        "start_time": "2023-03-24T15:03:06.126Z"
      },
      {
        "duration": 1006,
        "start_time": "2023-03-24T15:23:24.425Z"
      },
      {
        "duration": 51,
        "start_time": "2023-03-24T15:23:31.994Z"
      },
      {
        "duration": 2149,
        "start_time": "2023-03-24T15:23:36.731Z"
      },
      {
        "duration": 27,
        "start_time": "2023-03-24T15:23:43.751Z"
      },
      {
        "duration": 8,
        "start_time": "2023-03-24T15:24:05.001Z"
      },
      {
        "duration": 4,
        "start_time": "2023-03-24T15:24:07.451Z"
      },
      {
        "duration": 128804,
        "start_time": "2023-03-24T15:24:11.187Z"
      },
      {
        "duration": 74653,
        "start_time": "2023-03-24T15:26:43.247Z"
      },
      {
        "duration": 76284,
        "start_time": "2023-03-24T15:29:03.604Z"
      },
      {
        "duration": 36039,
        "start_time": "2023-03-24T15:32:25.952Z"
      },
      {
        "duration": 10,
        "start_time": "2023-03-24T15:38:49.143Z"
      },
      {
        "duration": 11,
        "start_time": "2023-03-24T15:38:50.242Z"
      },
      {
        "duration": 8,
        "start_time": "2023-03-24T15:39:14.807Z"
      },
      {
        "duration": 5,
        "start_time": "2023-03-24T15:39:29.579Z"
      },
      {
        "duration": 4,
        "start_time": "2023-03-24T15:39:47.436Z"
      },
      {
        "duration": 6,
        "start_time": "2023-03-24T15:45:14.603Z"
      },
      {
        "duration": 3,
        "start_time": "2023-03-24T15:45:16.012Z"
      },
      {
        "duration": 1894,
        "start_time": "2023-03-24T15:45:16.539Z"
      },
      {
        "duration": 3,
        "start_time": "2023-03-24T15:45:18.435Z"
      },
      {
        "duration": 1750,
        "start_time": "2023-03-24T15:45:18.502Z"
      },
      {
        "duration": 5,
        "start_time": "2023-03-24T15:45:20.256Z"
      },
      {
        "duration": 556,
        "start_time": "2023-03-24T15:45:20.263Z"
      },
      {
        "duration": 311,
        "start_time": "2023-03-24T15:45:23.211Z"
      },
      {
        "duration": 287,
        "start_time": "2023-03-24T15:45:26.559Z"
      },
      {
        "duration": 218,
        "start_time": "2023-03-24T15:45:27.500Z"
      },
      {
        "duration": 257,
        "start_time": "2023-03-24T15:45:28.039Z"
      },
      {
        "duration": 24,
        "start_time": "2023-03-24T15:45:29.912Z"
      },
      {
        "duration": 40,
        "start_time": "2023-03-24T15:45:36.906Z"
      },
      {
        "duration": 2,
        "start_time": "2023-03-24T15:45:40.060Z"
      },
      {
        "duration": 5,
        "start_time": "2023-03-24T15:45:40.693Z"
      },
      {
        "duration": 4,
        "start_time": "2023-03-24T15:45:41.435Z"
      },
      {
        "duration": 298,
        "start_time": "2023-03-24T15:45:42.201Z"
      },
      {
        "duration": 1878874,
        "start_time": "2023-03-24T15:45:42.951Z"
      },
      {
        "duration": 12,
        "start_time": "2023-03-24T21:21:16.778Z"
      },
      {
        "duration": 3,
        "start_time": "2023-03-24T21:21:22.018Z"
      },
      {
        "duration": 6855,
        "start_time": "2023-03-24T21:21:23.311Z"
      },
      {
        "duration": 5,
        "start_time": "2023-03-24T21:21:30.170Z"
      },
      {
        "duration": 2473,
        "start_time": "2023-03-24T21:21:30.177Z"
      },
      {
        "duration": 6,
        "start_time": "2023-03-24T21:21:35.980Z"
      },
      {
        "duration": 522,
        "start_time": "2023-03-24T21:21:47.372Z"
      },
      {
        "duration": 349,
        "start_time": "2023-03-24T21:22:35.045Z"
      },
      {
        "duration": 261,
        "start_time": "2023-03-24T21:22:37.558Z"
      },
      {
        "duration": 217,
        "start_time": "2023-03-24T21:22:38.984Z"
      },
      {
        "duration": 273,
        "start_time": "2023-03-24T21:22:39.674Z"
      },
      {
        "duration": 36,
        "start_time": "2023-03-24T21:22:43.644Z"
      },
      {
        "duration": 6,
        "start_time": "2023-03-24T21:22:56.451Z"
      },
      {
        "duration": 5,
        "start_time": "2023-03-24T21:22:58.469Z"
      },
      {
        "duration": 6,
        "start_time": "2023-03-24T21:23:00.751Z"
      },
      {
        "duration": 293,
        "start_time": "2023-03-24T21:23:04.798Z"
      },
      {
        "duration": 2521130,
        "start_time": "2023-03-24T21:23:09.347Z"
      },
      {
        "duration": 326,
        "start_time": "2023-03-24T22:05:10.484Z"
      },
      {
        "duration": 3825,
        "start_time": "2023-03-24T22:07:18.547Z"
      },
      {
        "duration": 133,
        "start_time": "2023-03-24T22:07:56.747Z"
      },
      {
        "duration": 6289,
        "start_time": "2023-03-24T22:08:14.069Z"
      },
      {
        "duration": 3,
        "start_time": "2023-03-24T22:09:36.478Z"
      },
      {
        "duration": 69,
        "start_time": "2023-03-24T22:10:07.015Z"
      },
      {
        "duration": 4,
        "start_time": "2023-03-24T22:11:45.575Z"
      },
      {
        "duration": 228639,
        "start_time": "2023-03-24T22:11:57.695Z"
      },
      {
        "duration": 196563,
        "start_time": "2023-03-24T22:16:40.602Z"
      },
      {
        "duration": 10,
        "start_time": "2023-03-24T22:24:36.311Z"
      },
      {
        "duration": 12,
        "start_time": "2023-03-24T22:24:40.073Z"
      },
      {
        "duration": 6,
        "start_time": "2023-03-24T22:29:56.979Z"
      },
      {
        "duration": 1178,
        "start_time": "2023-03-24T22:29:59.470Z"
      },
      {
        "duration": 254,
        "start_time": "2023-03-24T22:33:13.823Z"
      },
      {
        "duration": 150,
        "start_time": "2023-03-24T22:33:16.150Z"
      },
      {
        "duration": 257,
        "start_time": "2023-03-24T22:33:33.860Z"
      },
      {
        "duration": 5,
        "start_time": "2023-03-24T22:43:04.208Z"
      },
      {
        "duration": 29,
        "start_time": "2023-03-24T22:43:54.026Z"
      },
      {
        "duration": 215,
        "start_time": "2023-03-24T22:46:48.162Z"
      },
      {
        "duration": 5,
        "start_time": "2023-03-24T22:51:53.780Z"
      },
      {
        "duration": 5,
        "start_time": "2023-03-24T22:52:03.855Z"
      },
      {
        "duration": 3,
        "start_time": "2023-03-24T22:56:19.981Z"
      },
      {
        "duration": 127,
        "start_time": "2023-03-24T23:19:56.356Z"
      },
      {
        "duration": 5,
        "start_time": "2023-03-24T23:22:36.399Z"
      },
      {
        "duration": 5,
        "start_time": "2023-03-24T23:22:36.406Z"
      },
      {
        "duration": 5337,
        "start_time": "2023-03-24T23:22:36.413Z"
      },
      {
        "duration": 5,
        "start_time": "2023-03-24T23:22:41.757Z"
      },
      {
        "duration": 2947,
        "start_time": "2023-03-24T23:22:41.764Z"
      },
      {
        "duration": 5,
        "start_time": "2023-03-24T23:22:44.713Z"
      },
      {
        "duration": 520,
        "start_time": "2023-03-24T23:22:44.724Z"
      },
      {
        "duration": 331,
        "start_time": "2023-03-24T23:22:45.257Z"
      },
      {
        "duration": 286,
        "start_time": "2023-03-24T23:22:45.590Z"
      },
      {
        "duration": 227,
        "start_time": "2023-03-24T23:22:45.879Z"
      },
      {
        "duration": 259,
        "start_time": "2023-03-24T23:22:46.107Z"
      },
      {
        "duration": 36,
        "start_time": "2023-03-24T23:22:46.367Z"
      },
      {
        "duration": 26,
        "start_time": "2023-03-24T23:22:46.404Z"
      },
      {
        "duration": 13,
        "start_time": "2023-03-24T23:22:46.432Z"
      },
      {
        "duration": 11,
        "start_time": "2023-03-24T23:22:46.447Z"
      },
      {
        "duration": 306,
        "start_time": "2023-03-24T23:22:46.460Z"
      },
      {
        "duration": 291,
        "start_time": "2023-03-24T23:24:20.082Z"
      },
      {
        "duration": 56,
        "start_time": "2023-03-24T23:24:35.353Z"
      },
      {
        "duration": 80,
        "start_time": "2023-03-24T23:26:49.211Z"
      },
      {
        "duration": 52,
        "start_time": "2023-03-24T23:31:18.972Z"
      },
      {
        "duration": 50,
        "start_time": "2023-03-24T23:32:20.758Z"
      },
      {
        "duration": 17,
        "start_time": "2023-03-24T23:32:48.285Z"
      },
      {
        "duration": 568,
        "start_time": "2023-03-24T23:33:08.596Z"
      },
      {
        "duration": 594,
        "start_time": "2023-03-24T23:34:04.424Z"
      },
      {
        "duration": 11,
        "start_time": "2023-03-24T23:43:10.994Z"
      },
      {
        "duration": 483,
        "start_time": "2023-03-24T23:43:13.288Z"
      },
      {
        "duration": 6,
        "start_time": "2023-03-24T23:43:35.736Z"
      },
      {
        "duration": 475,
        "start_time": "2023-03-24T23:43:37.438Z"
      },
      {
        "duration": 115,
        "start_time": "2023-03-24T23:43:50.141Z"
      },
      {
        "duration": 453,
        "start_time": "2023-03-24T23:43:55.694Z"
      },
      {
        "duration": 9,
        "start_time": "2023-03-24T23:44:41.789Z"
      },
      {
        "duration": 479,
        "start_time": "2023-03-24T23:44:54.980Z"
      },
      {
        "duration": 6,
        "start_time": "2023-03-24T23:45:47.052Z"
      },
      {
        "duration": 480,
        "start_time": "2023-03-24T23:45:51.050Z"
      },
      {
        "duration": 26,
        "start_time": "2023-03-24T23:47:43.452Z"
      },
      {
        "duration": 289,
        "start_time": "2023-03-24T23:48:03.211Z"
      },
      {
        "duration": 287,
        "start_time": "2023-03-24T23:48:04.795Z"
      },
      {
        "duration": 208,
        "start_time": "2023-03-24T23:48:07.392Z"
      },
      {
        "duration": 248,
        "start_time": "2023-03-24T23:48:08.006Z"
      },
      {
        "duration": 49,
        "start_time": "2023-03-24T23:48:10.788Z"
      },
      {
        "duration": 2,
        "start_time": "2023-03-24T23:48:13.112Z"
      },
      {
        "duration": 6,
        "start_time": "2023-03-24T23:48:14.367Z"
      },
      {
        "duration": 3,
        "start_time": "2023-03-24T23:48:16.648Z"
      },
      {
        "duration": 157,
        "start_time": "2023-03-24T23:48:23.096Z"
      },
      {
        "duration": 1171695,
        "start_time": "2023-03-24T23:48:25.468Z"
      },
      {
        "duration": 7,
        "start_time": "2023-03-25T00:07:57.165Z"
      },
      {
        "duration": 1482,
        "start_time": "2023-03-25T00:13:23.740Z"
      },
      {
        "duration": 40,
        "start_time": "2023-03-25T00:13:31.701Z"
      },
      {
        "duration": 2564,
        "start_time": "2023-03-25T00:13:36.732Z"
      },
      {
        "duration": 3,
        "start_time": "2023-03-25T00:13:41.561Z"
      },
      {
        "duration": 33,
        "start_time": "2023-03-25T00:13:47.456Z"
      },
      {
        "duration": 3,
        "start_time": "2023-03-25T00:14:02.761Z"
      },
      {
        "duration": 3,
        "start_time": "2023-03-25T00:14:04.316Z"
      },
      {
        "duration": 148953,
        "start_time": "2023-03-25T00:14:07.181Z"
      },
      {
        "duration": 101148,
        "start_time": "2023-03-25T00:17:06.287Z"
      },
      {
        "duration": 8,
        "start_time": "2023-03-25T00:19:57.840Z"
      },
      {
        "duration": 11,
        "start_time": "2023-03-25T00:20:00.587Z"
      },
      {
        "duration": 8,
        "start_time": "2023-03-25T00:20:21.888Z"
      },
      {
        "duration": 11,
        "start_time": "2023-03-25T00:20:25.323Z"
      },
      {
        "duration": 5,
        "start_time": "2023-03-25T00:20:35.736Z"
      },
      {
        "duration": 5,
        "start_time": "2023-03-25T00:20:38.059Z"
      },
      {
        "duration": 3067,
        "start_time": "2023-03-25T00:20:40.519Z"
      },
      {
        "duration": 1178773,
        "start_time": "2023-03-25T00:22:03.154Z"
      },
      {
        "duration": 43049,
        "start_time": "2023-03-25T00:41:41.931Z"
      },
      {
        "duration": 4,
        "start_time": "2023-03-25T00:42:24.981Z"
      },
      {
        "duration": 5,
        "start_time": "2023-03-25T00:42:58.202Z"
      },
      {
        "duration": 182,
        "start_time": "2023-03-25T00:43:10.484Z"
      },
      {
        "duration": 3,
        "start_time": "2023-03-25T00:43:33.736Z"
      },
      {
        "duration": 396230,
        "start_time": "2023-03-25T00:43:45.011Z"
      },
      {
        "duration": 1194,
        "start_time": "2023-03-25T00:50:32.000Z"
      },
      {
        "duration": 1299,
        "start_time": "2023-03-25T00:52:12.020Z"
      },
      {
        "duration": 205871,
        "start_time": "2023-03-25T00:54:29.171Z"
      },
      {
        "duration": 51,
        "start_time": "2023-03-25T00:59:24.787Z"
      },
      {
        "duration": 61,
        "start_time": "2023-03-25T00:59:39.998Z"
      },
      {
        "duration": 51051,
        "start_time": "2023-03-25T00:59:57.555Z"
      },
      {
        "duration": 102455,
        "start_time": "2023-03-25T01:01:49.103Z"
      },
      {
        "duration": 51,
        "start_time": "2023-03-25T16:59:14.561Z"
      },
      {
        "duration": 23,
        "start_time": "2023-03-25T19:11:10.814Z"
      },
      {
        "duration": 2,
        "start_time": "2023-03-25T19:11:15.595Z"
      },
      {
        "duration": 6760,
        "start_time": "2023-03-25T19:11:16.290Z"
      },
      {
        "duration": 3,
        "start_time": "2023-03-25T19:11:23.059Z"
      },
      {
        "duration": 1820,
        "start_time": "2023-03-25T19:11:23.064Z"
      },
      {
        "duration": 7,
        "start_time": "2023-03-25T19:11:26.608Z"
      },
      {
        "duration": 515,
        "start_time": "2023-03-25T19:11:27.290Z"
      },
      {
        "duration": 391,
        "start_time": "2023-03-25T19:11:32.723Z"
      },
      {
        "duration": 301,
        "start_time": "2023-03-25T19:11:35.913Z"
      },
      {
        "duration": 232,
        "start_time": "2023-03-25T19:11:36.959Z"
      },
      {
        "duration": 278,
        "start_time": "2023-03-25T19:11:38.067Z"
      },
      {
        "duration": 46,
        "start_time": "2023-03-25T19:11:39.804Z"
      },
      {
        "duration": 3,
        "start_time": "2023-03-25T19:11:42.252Z"
      },
      {
        "duration": 9,
        "start_time": "2023-03-25T19:11:42.956Z"
      },
      {
        "duration": 4,
        "start_time": "2023-03-25T19:11:43.855Z"
      },
      {
        "duration": 171,
        "start_time": "2023-03-25T19:11:44.814Z"
      },
      {
        "duration": 17,
        "start_time": "2023-03-25T19:30:46.646Z"
      },
      {
        "duration": 10,
        "start_time": "2023-03-25T19:30:46.665Z"
      },
      {
        "duration": 5022,
        "start_time": "2023-03-25T19:30:46.678Z"
      },
      {
        "duration": 2,
        "start_time": "2023-03-25T19:30:51.702Z"
      },
      {
        "duration": 2023,
        "start_time": "2023-03-25T19:30:51.706Z"
      },
      {
        "duration": 9,
        "start_time": "2023-03-25T19:30:53.739Z"
      },
      {
        "duration": 537,
        "start_time": "2023-03-25T19:30:53.750Z"
      },
      {
        "duration": 392,
        "start_time": "2023-03-25T19:30:54.289Z"
      },
      {
        "duration": 298,
        "start_time": "2023-03-25T19:30:54.683Z"
      },
      {
        "duration": 273,
        "start_time": "2023-03-25T19:30:54.984Z"
      },
      {
        "duration": 277,
        "start_time": "2023-03-25T19:30:55.265Z"
      },
      {
        "duration": 36,
        "start_time": "2023-03-25T19:30:55.548Z"
      },
      {
        "duration": 3,
        "start_time": "2023-03-25T19:30:55.587Z"
      },
      {
        "duration": 15,
        "start_time": "2023-03-25T19:30:55.593Z"
      },
      {
        "duration": 36,
        "start_time": "2023-03-25T19:30:55.610Z"
      },
      {
        "duration": 164,
        "start_time": "2023-03-25T19:30:55.648Z"
      },
      {
        "duration": 17,
        "start_time": "2023-03-25T19:38:02.051Z"
      },
      {
        "duration": 13,
        "start_time": "2023-03-25T19:38:02.071Z"
      },
      {
        "duration": 11,
        "start_time": "2023-03-25T19:38:19.667Z"
      },
      {
        "duration": 11,
        "start_time": "2023-03-25T19:38:19.679Z"
      },
      {
        "duration": 4527,
        "start_time": "2023-03-25T19:38:19.692Z"
      },
      {
        "duration": 7,
        "start_time": "2023-03-25T19:38:24.221Z"
      },
      {
        "duration": 2318,
        "start_time": "2023-03-25T19:38:24.233Z"
      },
      {
        "duration": 18,
        "start_time": "2023-03-25T19:38:26.553Z"
      },
      {
        "duration": 581,
        "start_time": "2023-03-25T19:38:26.573Z"
      },
      {
        "duration": 412,
        "start_time": "2023-03-25T19:38:27.155Z"
      },
      {
        "duration": 318,
        "start_time": "2023-03-25T19:38:27.569Z"
      },
      {
        "duration": 253,
        "start_time": "2023-03-25T19:38:27.889Z"
      },
      {
        "duration": 286,
        "start_time": "2023-03-25T19:38:28.145Z"
      },
      {
        "duration": 56,
        "start_time": "2023-03-25T19:38:28.433Z"
      },
      {
        "duration": 3,
        "start_time": "2023-03-25T19:38:28.491Z"
      },
      {
        "duration": 5,
        "start_time": "2023-03-25T19:38:28.496Z"
      },
      {
        "duration": 4,
        "start_time": "2023-03-25T19:38:28.503Z"
      },
      {
        "duration": 209,
        "start_time": "2023-03-25T19:38:28.509Z"
      },
      {
        "duration": 11,
        "start_time": "2023-03-25T19:46:12.189Z"
      },
      {
        "duration": 5,
        "start_time": "2023-03-25T19:46:12.202Z"
      },
      {
        "duration": 5283,
        "start_time": "2023-03-25T19:46:12.209Z"
      },
      {
        "duration": 3,
        "start_time": "2023-03-25T19:46:17.494Z"
      },
      {
        "duration": 2271,
        "start_time": "2023-03-25T19:46:17.499Z"
      },
      {
        "duration": 9,
        "start_time": "2023-03-25T19:46:19.775Z"
      },
      {
        "duration": 607,
        "start_time": "2023-03-25T19:46:19.786Z"
      },
      {
        "duration": 421,
        "start_time": "2023-03-25T19:46:20.397Z"
      },
      {
        "duration": 356,
        "start_time": "2023-03-25T19:46:20.820Z"
      },
      {
        "duration": 249,
        "start_time": "2023-03-25T19:46:21.179Z"
      },
      {
        "duration": 299,
        "start_time": "2023-03-25T19:46:21.430Z"
      },
      {
        "duration": 37,
        "start_time": "2023-03-25T19:46:21.731Z"
      },
      {
        "duration": 3,
        "start_time": "2023-03-25T19:46:21.770Z"
      },
      {
        "duration": 5,
        "start_time": "2023-03-25T19:46:21.776Z"
      },
      {
        "duration": 5,
        "start_time": "2023-03-25T19:46:21.783Z"
      },
      {
        "duration": 215,
        "start_time": "2023-03-25T19:46:21.790Z"
      },
      {
        "duration": 1503626,
        "start_time": "2023-03-25T19:46:22.006Z"
      },
      {
        "duration": 1894,
        "start_time": "2023-03-25T20:13:51.655Z"
      },
      {
        "duration": 54,
        "start_time": "2023-03-25T20:14:00.024Z"
      },
      {
        "duration": 3,
        "start_time": "2023-03-25T20:14:02.168Z"
      },
      {
        "duration": 3248,
        "start_time": "2023-03-25T20:14:06.462Z"
      },
      {
        "duration": 41,
        "start_time": "2023-03-25T20:14:09.712Z"
      },
      {
        "duration": 3,
        "start_time": "2023-03-25T20:14:18.158Z"
      },
      {
        "duration": 12,
        "start_time": "2023-03-25T20:14:21.830Z"
      },
      {
        "duration": 191862,
        "start_time": "2023-03-25T20:14:29.880Z"
      },
      {
        "duration": 127081,
        "start_time": "2023-03-25T20:17:41.752Z"
      },
      {
        "duration": 301,
        "start_time": "2023-03-25T20:19:59.902Z"
      },
      {
        "duration": 29,
        "start_time": "2023-03-25T20:21:23.917Z"
      },
      {
        "duration": 9,
        "start_time": "2023-03-25T20:21:26.796Z"
      },
      {
        "duration": 5,
        "start_time": "2023-03-25T20:21:38.980Z"
      },
      {
        "duration": 11,
        "start_time": "2023-03-25T20:21:51.934Z"
      },
      {
        "duration": 353,
        "start_time": "2023-03-25T20:21:54.555Z"
      },
      {
        "duration": 4,
        "start_time": "2023-03-25T20:23:05.672Z"
      },
      {
        "duration": 258,
        "start_time": "2023-03-25T20:23:08.862Z"
      },
      {
        "duration": 279,
        "start_time": "2023-03-25T20:23:34.793Z"
      },
      {
        "duration": 299,
        "start_time": "2023-03-25T20:23:38.559Z"
      },
      {
        "duration": 7,
        "start_time": "2023-03-25T20:24:04.613Z"
      },
      {
        "duration": 138204,
        "start_time": "2023-03-25T20:24:08.152Z"
      },
      {
        "duration": 4,
        "start_time": "2023-03-25T20:31:25.006Z"
      },
      {
        "duration": 119910,
        "start_time": "2023-03-25T20:32:00.975Z"
      },
      {
        "duration": 26378,
        "start_time": "2023-03-25T20:34:13.755Z"
      },
      {
        "duration": 691423,
        "start_time": "2023-03-25T20:35:25.980Z"
      },
      {
        "duration": 108199,
        "start_time": "2023-03-25T20:47:26.950Z"
      },
      {
        "duration": 118085,
        "start_time": "2023-03-25T20:56:08.614Z"
      },
      {
        "duration": 3546,
        "start_time": "2023-03-25T20:58:23.479Z"
      },
      {
        "duration": 104,
        "start_time": "2023-03-25T21:01:53.760Z"
      },
      {
        "duration": 100,
        "start_time": "2023-03-25T21:02:26.207Z"
      },
      {
        "duration": 316103,
        "start_time": "2023-03-25T21:02:38.264Z"
      },
      {
        "duration": 5929,
        "start_time": "2023-03-25T21:10:30.168Z"
      },
      {
        "duration": 8,
        "start_time": "2023-03-25T21:11:42.771Z"
      },
      {
        "duration": 8,
        "start_time": "2023-03-25T21:11:44.442Z"
      },
      {
        "duration": 146,
        "start_time": "2023-03-25T21:11:45.612Z"
      },
      {
        "duration": 20,
        "start_time": "2023-03-25T21:11:48.307Z"
      },
      {
        "duration": 5,
        "start_time": "2023-03-25T21:12:13.086Z"
      },
      {
        "duration": 12,
        "start_time": "2023-03-25T21:12:16.021Z"
      },
      {
        "duration": 3,
        "start_time": "2023-03-25T21:12:16.716Z"
      },
      {
        "duration": 4,
        "start_time": "2023-03-25T21:12:17.291Z"
      },
      {
        "duration": 35,
        "start_time": "2023-03-25T21:12:39.010Z"
      },
      {
        "duration": 15164,
        "start_time": "2023-03-25T21:22:12.800Z"
      },
      {
        "duration": 614856,
        "start_time": "2023-03-25T21:23:03.624Z"
      },
      {
        "duration": 76,
        "start_time": "2023-03-25T21:50:04.839Z"
      },
      {
        "duration": 77,
        "start_time": "2023-03-25T21:50:29.456Z"
      },
      {
        "duration": 1177,
        "start_time": "2023-03-25T21:50:45.184Z"
      },
      {
        "duration": 1138,
        "start_time": "2023-03-25T21:51:46.798Z"
      },
      {
        "duration": 14,
        "start_time": "2023-03-25T21:55:19.495Z"
      },
      {
        "duration": 15,
        "start_time": "2023-03-25T21:55:43.092Z"
      },
      {
        "duration": 14,
        "start_time": "2023-03-25T21:58:37.496Z"
      }
    ],
    "colab": {
      "provenance": []
    },
    "gpuClass": "standard",
    "kernelspec": {
      "display_name": "Python 3 (ipykernel)",
      "language": "python",
      "name": "python3"
    },
    "language_info": {
      "codemirror_mode": {
        "name": "ipython",
        "version": 3
      },
      "file_extension": ".py",
      "mimetype": "text/x-python",
      "name": "python",
      "nbconvert_exporter": "python",
      "pygments_lexer": "ipython3",
      "version": "3.9.5"
    },
    "toc": {
      "base_numbering": 1,
      "nav_menu": {},
      "number_sections": true,
      "sideBar": true,
      "skip_h1_title": true,
      "title_cell": "Содержание",
      "title_sidebar": "Contents",
      "toc_cell": true,
      "toc_position": {
        "height": "calc(100% - 180px)",
        "left": "10px",
        "top": "150px",
        "width": "302.391px"
      },
      "toc_section_display": true,
      "toc_window_display": false
    }
  },
  "nbformat": 4,
  "nbformat_minor": 0
}